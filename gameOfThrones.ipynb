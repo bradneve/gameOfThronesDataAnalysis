{
  "nbformat": 4,
  "nbformat_minor": 0,
  "metadata": {
    "colab": {
      "provenance": [],
      "collapsed_sections": [],
      "toc_visible": true,
      "authorship_tag": "ABX9TyMkd/IM8jJn2/2rOtNfU4rS",
      "include_colab_link": true
    },
    "kernelspec": {
      "name": "python3",
      "display_name": "Python 3"
    },
    "language_info": {
      "name": "python"
    }
  },
  "cells": [
    {
      "cell_type": "markdown",
      "metadata": {
        "id": "view-in-github",
        "colab_type": "text"
      },
      "source": [
        "<a href=\"https://colab.research.google.com/github/bradneve/gameOfThronesDataAnalysis/blob/main/gameOfThrones.ipynb\" target=\"_parent\"><img src=\"https://colab.research.google.com/assets/colab-badge.svg\" alt=\"Open In Colab\"/></a>"
      ]
    },
    {
      "cell_type": "markdown",
      "source": [
        "# Game of thrones analysis\n",
        "\n",
        "## Imports"
      ],
      "metadata": {
        "id": "Whk-iUnPF6Qo"
      }
    },
    {
      "cell_type": "code",
      "source": [
        "import requests\n",
        "import json\n",
        "import csv\n",
        "import pandas as pd\n",
        "from numpy import nan\n",
        "import seaborn as sns"
      ],
      "metadata": {
        "id": "FgmA003iGDRz"
      },
      "execution_count": 32,
      "outputs": []
    },
    {
      "cell_type": "code",
      "source": [
        "response = requests.get(\"https://anapioficeandfire.com/api/houses/378\")\n",
        "targaryen_house = response.json()\n",
        "targaryen = []\n",
        "\n",
        "for x in targaryen_house[\"swornMembers\"]:\n",
        "  response = requests.get(x)\n",
        "  targaryen.append(response.json())"
      ],
      "metadata": {
        "colab": {
          "base_uri": "https://localhost:8080/"
        },
        "id": "AmC60TNxGG-1",
        "outputId": "068b2add-c018-41e4-a045-e330f13b06db"
      },
      "execution_count": 6,
      "outputs": [
        {
          "output_type": "stream",
          "name": "stdout",
          "text": [
            "[{'url': 'https://anapioficeandfire.com/api/characters/33', 'name': 'Addam Velaryon', 'gender': 'Male', 'culture': 'Valyrian', 'born': 'In 114 AC, at Hull', 'died': 'In 130 AC, at Tumbleton', 'titles': ['Ser'], 'aliases': ['Addam of Hull'], 'father': '', 'mother': '', 'spouse': '', 'allegiances': ['https://anapioficeandfire.com/api/houses/378', 'https://anapioficeandfire.com/api/houses/407'], 'books': ['https://anapioficeandfire.com/api/books/9', 'https://anapioficeandfire.com/api/books/11'], 'povBooks': [], 'tvSeries': [''], 'playedBy': ['']}, {'url': 'https://anapioficeandfire.com/api/characters/42', 'name': 'Aegon Targaryen', 'gender': 'Male', 'culture': 'Valyrian', 'born': 'In 281 AC or 282 AC, at Dragonstone', 'died': \"In 283 AC (Supposedly), at King's Landing\", 'titles': [''], 'aliases': ['Young Griff'], 'father': '', 'mother': '', 'spouse': '', 'allegiances': ['https://anapioficeandfire.com/api/houses/378'], 'books': ['https://anapioficeandfire.com/api/books/1', 'https://anapioficeandfire.com/api/books/2', 'https://anapioficeandfire.com/api/books/3', 'https://anapioficeandfire.com/api/books/5', 'https://anapioficeandfire.com/api/books/8', 'https://anapioficeandfire.com/api/books/11'], 'povBooks': [], 'tvSeries': [''], 'playedBy': ['']}, {'url': 'https://anapioficeandfire.com/api/characters/43', 'name': 'Aegon Targaryen', 'gender': 'Male', 'culture': 'Valyrian', 'born': 'In 26 AC', 'died': 'In 43 AC, at Gods Eye', 'titles': ['Prince'], 'aliases': [''], 'father': '', 'mother': '', 'spouse': 'https://anapioficeandfire.com/api/characters/873', 'allegiances': ['https://anapioficeandfire.com/api/houses/378'], 'books': ['https://anapioficeandfire.com/api/books/11'], 'povBooks': [], 'tvSeries': [''], 'playedBy': ['']}, {'url': 'https://anapioficeandfire.com/api/characters/44', 'name': 'Aegon Targaryen', 'gender': 'Male', 'culture': 'Valyrian', 'born': '', 'died': '', 'titles': ['Prince'], 'aliases': [''], 'father': '', 'mother': '', 'spouse': '', 'allegiances': ['https://anapioficeandfire.com/api/houses/378'], 'books': ['https://anapioficeandfire.com/api/books/11'], 'povBooks': [], 'tvSeries': [''], 'playedBy': ['']}, {'url': 'https://anapioficeandfire.com/api/characters/45', 'name': 'Aegon Targaryen', 'gender': 'Male', 'culture': 'Valyrian', 'born': 'In or between 50 AC and 59 AC', 'died': '', 'titles': ['Prince'], 'aliases': [''], 'father': '', 'mother': '', 'spouse': '', 'allegiances': ['https://anapioficeandfire.com/api/houses/378'], 'books': ['https://anapioficeandfire.com/api/books/11'], 'povBooks': [], 'tvSeries': [''], 'playedBy': ['']}, {'url': 'https://www.anapioficeandfire.com/api/characters/48', 'name': 'Aelinor Penrose', 'gender': 'Female', 'culture': 'Valyrian', 'born': '', 'died': '', 'titles': ['Queen'], 'aliases': [''], 'father': '', 'mother': '', 'spouse': 'https://www.anapioficeandfire.com/api/characters/61', 'allegiances': ['https://www.anapioficeandfire.com/api/houses/300', 'https://www.anapioficeandfire.com/api/houses/378'], 'books': ['https://www.anapioficeandfire.com/api/books/6', 'https://www.anapioficeandfire.com/api/books/11'], 'povBooks': [], 'tvSeries': [''], 'playedBy': ['']}, {'url': 'https://www.anapioficeandfire.com/api/characters/49', 'name': 'Aemma Arryn', 'gender': 'Female', 'culture': '', 'born': 'In 82 AC', 'died': 'In 105 AC', 'titles': ['Queen'], 'aliases': [''], 'father': '', 'mother': '', 'spouse': 'https://www.anapioficeandfire.com/api/characters/1076', 'allegiances': ['https://www.anapioficeandfire.com/api/houses/7', 'https://www.anapioficeandfire.com/api/houses/378'], 'books': ['https://www.anapioficeandfire.com/api/books/9', 'https://www.anapioficeandfire.com/api/books/10', 'https://www.anapioficeandfire.com/api/books/11'], 'povBooks': [], 'tvSeries': [''], 'playedBy': ['']}, {'url': 'https://anapioficeandfire.com/api/characters/55', 'name': 'Aemond Targaryen', 'gender': 'Male', 'culture': 'Valyrian', 'born': 'In 110 AC', 'died': 'In 130 AC, at the Gods Eye', 'titles': ['Prince', 'Protector of the Realm', 'Prince Regent'], 'aliases': ['Aemond One-Eye Aemond the Kinslayer'], 'father': '', 'mother': '', 'spouse': '', 'allegiances': ['https://anapioficeandfire.com/api/houses/378'], 'books': ['https://anapioficeandfire.com/api/books/8', 'https://anapioficeandfire.com/api/books/9', 'https://anapioficeandfire.com/api/books/10', 'https://anapioficeandfire.com/api/books/11'], 'povBooks': [], 'tvSeries': [''], 'playedBy': ['']}, {'url': 'https://anapioficeandfire.com/api/characters/58', 'name': 'Aerion Targaryen', 'gender': 'Male', 'culture': 'Valyrian', 'born': 'In or between 191 AC and 194 AC', 'died': 'In 232 AC', 'titles': ['Prince'], 'aliases': ['Brightflame', 'Aerion the Monstrous', 'The Bright Prince', 'The Prince Who Thought He Was a Dragon'], 'father': '', 'mother': '', 'spouse': 'https://anapioficeandfire.com/api/characters/272', 'allegiances': ['https://anapioficeandfire.com/api/houses/378'], 'books': ['https://anapioficeandfire.com/api/books/2', 'https://anapioficeandfire.com/api/books/3', 'https://anapioficeandfire.com/api/books/4', 'https://anapioficeandfire.com/api/books/6', 'https://anapioficeandfire.com/api/books/7', 'https://anapioficeandfire.com/api/books/8', 'https://anapioficeandfire.com/api/books/11'], 'povBooks': [], 'tvSeries': [''], 'playedBy': ['']}, {'url': 'https://anapioficeandfire.com/api/characters/59', 'name': 'Aerion Targaryen', 'gender': 'Male', 'culture': 'Valyrian', 'born': 'At Dragonstone', 'died': 'At Dragonstone', 'titles': ['Lord of Dragonstone'], 'aliases': [''], 'father': '', 'mother': '', 'spouse': 'https://anapioficeandfire.com/api/characters/1070', 'allegiances': ['https://anapioficeandfire.com/api/houses/378'], 'books': ['https://anapioficeandfire.com/api/books/11'], 'povBooks': [], 'tvSeries': [''], 'playedBy': ['']}, {'url': 'https://anapioficeandfire.com/api/characters/76', 'name': 'Alicent Hightower', 'gender': 'Female', 'culture': '', 'born': 'In 88 AC', 'died': 'In 133 AC', 'titles': ['Lady', 'Queen', 'Dowager Queen'], 'aliases': [''], 'father': '', 'mother': '', 'spouse': 'https://anapioficeandfire.com/api/characters/1076', 'allegiances': ['https://anapioficeandfire.com/api/houses/195', 'https://anapioficeandfire.com/api/houses/378'], 'books': ['https://anapioficeandfire.com/api/books/9', 'https://anapioficeandfire.com/api/books/10', 'https://anapioficeandfire.com/api/books/11'], 'povBooks': [], 'tvSeries': [''], 'playedBy': ['']}, {'url': 'https://anapioficeandfire.com/api/characters/91', 'name': 'Alyn Velaryon', 'gender': 'Male', 'culture': 'Valyrian', 'born': 'In 115 AC or later, at Hull, Driftmark', 'died': 'In or between 171 AC and 176 AC, at sea', 'titles': ['Lord of the Tides', 'Master of Driftmark', 'Admiral', 'Master of ships'], 'aliases': ['Alyn of Hull', 'The Oakenfist', 'Lord Oakenfist'], 'father': '', 'mother': '', 'spouse': 'https://anapioficeandfire.com/api/characters/154', 'allegiances': ['https://anapioficeandfire.com/api/houses/378', 'https://anapioficeandfire.com/api/houses/407'], 'books': ['https://anapioficeandfire.com/api/books/5', 'https://anapioficeandfire.com/api/books/8', 'https://anapioficeandfire.com/api/books/9', 'https://anapioficeandfire.com/api/books/11'], 'povBooks': [], 'tvSeries': [''], 'playedBy': ['']}, {'url': 'https://anapioficeandfire.com/api/characters/93', 'name': 'Alys Arryn', 'gender': 'Female', 'culture': '', 'born': '', 'died': '', 'titles': [''], 'aliases': [''], 'father': '', 'mother': '', 'spouse': 'https://anapioficeandfire.com/api/characters/868', 'allegiances': ['https://anapioficeandfire.com/api/houses/7', 'https://anapioficeandfire.com/api/houses/378'], 'books': ['https://anapioficeandfire.com/api/books/11'], 'povBooks': [], 'tvSeries': [''], 'playedBy': ['']}, {'url': 'https://anapioficeandfire.com/api/characters/109', 'name': 'Alyssa Targaryen', 'gender': 'Female', 'culture': 'Valyrian', 'born': 'In or between 51 AC and 60 AC', 'died': '', 'titles': ['Princess'], 'aliases': [''], 'father': '', 'mother': '', 'spouse': 'https://anapioficeandfire.com/api/characters/157', 'allegiances': ['https://anapioficeandfire.com/api/houses/378'], 'books': ['https://anapioficeandfire.com/api/books/11'], 'povBooks': [], 'tvSeries': [''], 'playedBy': ['']}, {'url': 'https://www.anapioficeandfire.com/api/characters/110', 'name': 'Alyssa Velaryon', 'gender': 'Female', 'culture': 'Valyrian', 'born': 'In 7 AC', 'died': '', 'titles': ['Lady', 'Queen', 'Dowager Queen', 'Queen Regent', \"Lady of Storm's End\"], 'aliases': [''], 'father': '', 'mother': '', 'spouse': 'https://www.anapioficeandfire.com/api/characters/57', 'allegiances': ['https://www.anapioficeandfire.com/api/houses/17', 'https://www.anapioficeandfire.com/api/houses/378', 'https://www.anapioficeandfire.com/api/houses/407'], 'books': ['https://www.anapioficeandfire.com/api/books/11'], 'povBooks': [], 'tvSeries': [''], 'playedBy': ['']}, {'url': 'https://www.anapioficeandfire.com/api/characters/154', 'name': 'Baela Targaryen', 'gender': 'Female', 'culture': 'Valyrian', 'born': 'In 116 AC, at Pentos', 'died': '', 'titles': ['Lady'], 'aliases': [''], 'father': '', 'mother': '', 'spouse': 'https://www.anapioficeandfire.com/api/characters/91', 'allegiances': ['https://www.anapioficeandfire.com/api/houses/378', 'https://www.anapioficeandfire.com/api/houses/407'], 'books': ['https://www.anapioficeandfire.com/api/books/9', 'https://www.anapioficeandfire.com/api/books/10', 'https://www.anapioficeandfire.com/api/books/11'], 'povBooks': [], 'tvSeries': [''], 'playedBy': ['']}, {'url': 'https://anapioficeandfire.com/api/characters/155', 'name': 'Baelon Targaryen', 'gender': 'Male', 'culture': 'Valyrian', 'born': 'At Dragonstone', 'died': '', 'titles': [''], 'aliases': [''], 'father': '', 'mother': '', 'spouse': '', 'allegiances': ['https://anapioficeandfire.com/api/houses/378'], 'books': ['https://anapioficeandfire.com/api/books/11'], 'povBooks': [], 'tvSeries': [''], 'playedBy': ['']}, {'url': 'https://www.anapioficeandfire.com/api/characters/156', 'name': 'Baelon Targaryen', 'gender': 'Male', 'culture': 'Valyrian', 'born': \"In 105 AC, at King's Landing\", 'died': \"In 105 AC, at King's Landing\", 'titles': ['Prince'], 'aliases': ['Heir for a Day'], 'father': '', 'mother': '', 'spouse': '', 'allegiances': ['https://www.anapioficeandfire.com/api/houses/378'], 'books': ['https://www.anapioficeandfire.com/api/books/10'], 'povBooks': [], 'tvSeries': [''], 'playedBy': ['']}, {'url': 'https://anapioficeandfire.com/api/characters/157', 'name': 'Baelon Targaryen', 'gender': 'Male', 'culture': 'Valyrian', 'born': 'In or between 53 AC and 64 AC', 'died': 'In 101 AC', 'titles': ['Prince of Dragonstone', 'Hand of the King'], 'aliases': ['Baelon the Brave', 'The Spring Prince'], 'father': '', 'mother': '', 'spouse': 'https://anapioficeandfire.com/api/characters/109', 'allegiances': ['https://anapioficeandfire.com/api/houses/378'], 'books': ['https://anapioficeandfire.com/api/books/9', 'https://anapioficeandfire.com/api/books/10', 'https://anapioficeandfire.com/api/books/11'], 'povBooks': [], 'tvSeries': [''], 'playedBy': ['']}, {'url': 'https://anapioficeandfire.com/api/characters/161', 'name': 'Baelor Targaryen', 'gender': 'Male', 'culture': '', 'born': 'In 170 AC', 'died': 'In 209 AC, at Ashford', 'titles': ['Prince of Dragonstone', 'Protector of the Realm', 'Hand of the King'], 'aliases': ['Baelor Breakspear', 'The Hammer'], 'father': '', 'mother': '', 'spouse': 'https://anapioficeandfire.com/api/characters/546', 'allegiances': ['https://anapioficeandfire.com/api/houses/378'], 'books': ['https://anapioficeandfire.com/api/books/3', 'https://anapioficeandfire.com/api/books/4', 'https://anapioficeandfire.com/api/books/6', 'https://anapioficeandfire.com/api/books/7', 'https://anapioficeandfire.com/api/books/11'], 'povBooks': [], 'tvSeries': [''], 'playedBy': ['']}, {'url': 'https://anapioficeandfire.com/api/characters/168', 'name': 'Barristan Selmy', 'gender': 'Male', 'culture': 'Westeros', 'born': 'In 237 AC', 'died': '', 'titles': ['Ser', 'Hand of the Queen'], 'aliases': ['Barristan the Bold', 'Arstan Whitebeard', 'Ser Grandfather', 'Barristan the Old', 'Old Ser'], 'father': '', 'mother': '', 'spouse': '', 'allegiances': ['https://anapioficeandfire.com/api/houses/341', 'https://anapioficeandfire.com/api/houses/378'], 'books': ['https://anapioficeandfire.com/api/books/1', 'https://anapioficeandfire.com/api/books/2', 'https://anapioficeandfire.com/api/books/3', 'https://anapioficeandfire.com/api/books/5', 'https://anapioficeandfire.com/api/books/11'], 'povBooks': ['https://anapioficeandfire.com/api/books/8'], 'tvSeries': ['Season 1', 'Season 3', 'Season 4', 'Season 5'], 'playedBy': ['Ian McElhinney']}, {'url': 'https://anapioficeandfire.com/api/characters/169', 'name': 'Barth', 'gender': 'Male', 'culture': '', 'born': '', 'died': 'In 99 AC', 'titles': ['Septon', 'Hand of the King'], 'aliases': [''], 'father': '', 'mother': '', 'spouse': '', 'allegiances': ['https://anapioficeandfire.com/api/houses/378'], 'books': ['https://anapioficeandfire.com/api/books/3', 'https://anapioficeandfire.com/api/books/5', 'https://anapioficeandfire.com/api/books/8', 'https://anapioficeandfire.com/api/books/10', 'https://anapioficeandfire.com/api/books/11'], 'povBooks': [], 'tvSeries': [''], 'playedBy': ['']}, {'url': 'https://anapioficeandfire.com/api/characters/195', 'name': 'Betha Blackwood', 'gender': 'Female', 'culture': '', 'born': 'At Raventree Hall', 'died': '', 'titles': ['Lady', 'Queen'], 'aliases': ['Black Betha'], 'father': '', 'mother': '', 'spouse': 'https://anapioficeandfire.com/api/characters/46', 'allegiances': ['https://anapioficeandfire.com/api/houses/27', 'https://anapioficeandfire.com/api/houses/378'], 'books': ['https://anapioficeandfire.com/api/books/11'], 'povBooks': [], 'tvSeries': [''], 'playedBy': ['']}, {'url': 'https://anapioficeandfire.com/api/characters/239', 'name': 'Ceryse Hightower', 'gender': 'Female', 'culture': '', 'born': 'In 2 AC', 'died': \"In 45 AC, at King's Landing\", 'titles': ['Lady', 'Queen'], 'aliases': [''], 'father': '', 'mother': '', 'spouse': 'https://anapioficeandfire.com/api/characters/694', 'allegiances': ['https://anapioficeandfire.com/api/houses/195', 'https://anapioficeandfire.com/api/houses/378'], 'books': ['https://anapioficeandfire.com/api/books/11'], 'povBooks': [], 'tvSeries': [''], 'playedBy': ['']}, {'url': 'https://anapioficeandfire.com/api/characters/265', 'name': 'Daella Targaryen', 'gender': 'Female', 'culture': 'Valyrian', 'born': 'In or between 54 AC and 66 AC', 'died': 'In 82 AC', 'titles': ['Princess', 'Lady of the Eyrie'], 'aliases': [''], 'father': '', 'mother': '', 'spouse': 'https://anapioficeandfire.com/api/characters/1884', 'allegiances': ['https://anapioficeandfire.com/api/houses/7', 'https://anapioficeandfire.com/api/houses/378'], 'books': ['https://anapioficeandfire.com/api/books/10', 'https://anapioficeandfire.com/api/books/11'], 'povBooks': [], 'tvSeries': [''], 'playedBy': ['']}, {'url': 'https://anapioficeandfire.com/api/characters/266', 'name': 'Daella Targaryen', 'gender': 'Female', 'culture': 'Valyrian', 'born': 'In 199 AC', 'died': '', 'titles': ['Princess'], 'aliases': [''], 'father': '', 'mother': '', 'spouse': '', 'allegiances': ['https://anapioficeandfire.com/api/houses/378'], 'books': ['https://anapioficeandfire.com/api/books/6', 'https://anapioficeandfire.com/api/books/11'], 'povBooks': [], 'tvSeries': [''], 'playedBy': ['']}, {'url': 'https://anapioficeandfire.com/api/characters/269', 'name': 'Daemon Targaryen', 'gender': 'Male', 'culture': 'Valyrian', 'born': 'In 81 AC', 'died': 'In 130 AC, at the Gods Eye', 'titles': ['Prince', 'Commander of the City Watch', 'Master of coin', 'Master of laws', 'King of the Stepstones and the Narrow Sea', 'Protector of the Realm'], 'aliases': ['Prince of the City', 'Lord Flea Bottom', 'The Rogue Prince'], 'father': '', 'mother': '', 'spouse': 'https://anapioficeandfire.com/api/characters/878', 'allegiances': ['https://anapioficeandfire.com/api/houses/378'], 'books': ['https://anapioficeandfire.com/api/books/9', 'https://anapioficeandfire.com/api/books/10', 'https://anapioficeandfire.com/api/books/11'], 'povBooks': [], 'tvSeries': [''], 'playedBy': ['']}, {'url': 'https://anapioficeandfire.com/api/characters/270', 'name': 'Daena Targaryen', 'gender': 'Female', 'culture': 'Valyrian', 'born': \"In 145 AC, at King's Landing\", 'died': '', 'titles': ['Princess'], 'aliases': ['Daena the Defiant'], 'father': 'https://anapioficeandfire.com/api/characters/40', 'mother': 'https://anapioficeandfire.com/api/characters/1302', 'spouse': 'https://anapioficeandfire.com/api/characters/160', 'allegiances': ['https://anapioficeandfire.com/api/houses/378'], 'books': ['https://anapioficeandfire.com/api/books/5', 'https://anapioficeandfire.com/api/books/11'], 'povBooks': [], 'tvSeries': [''], 'playedBy': ['']}, {'url': 'https://anapioficeandfire.com/api/characters/271', 'name': 'Daenerys Targaryen', 'gender': 'Female', 'culture': '', 'born': 'In 172 AC', 'died': '', 'titles': ['Princess'], 'aliases': [''], 'father': '', 'mother': '', 'spouse': 'https://anapioficeandfire.com/api/characters/719', 'allegiances': ['https://anapioficeandfire.com/api/houses/285', 'https://anapioficeandfire.com/api/houses/378'], 'books': ['https://anapioficeandfire.com/api/books/6', 'https://anapioficeandfire.com/api/books/8', 'https://anapioficeandfire.com/api/books/11'], 'povBooks': [], 'tvSeries': [''], 'playedBy': ['']}, {'url': 'https://anapioficeandfire.com/api/characters/272', 'name': 'Daenora Targaryen', 'gender': 'Female', 'culture': 'Valyrian', 'born': '', 'died': '', 'titles': ['Princess'], 'aliases': [''], 'father': '', 'mother': '', 'spouse': 'https://anapioficeandfire.com/api/characters/58', 'allegiances': ['https://anapioficeandfire.com/api/houses/378'], 'books': ['https://anapioficeandfire.com/api/books/11'], 'povBooks': [], 'tvSeries': [''], 'playedBy': ['']}, {'url': 'https://anapioficeandfire.com/api/characters/275', 'name': 'Daeron Targaryen', 'gender': 'Male', 'culture': '', 'born': 'In 114 AC', 'died': 'In 130 AC, at Tumbleton', 'titles': ['Prince', 'Ser'], 'aliases': ['Daeron the Daring'], 'father': '', 'mother': '', 'spouse': '', 'allegiances': ['https://anapioficeandfire.com/api/houses/378'], 'books': ['https://anapioficeandfire.com/api/books/9', 'https://anapioficeandfire.com/api/books/10', 'https://anapioficeandfire.com/api/books/11'], 'povBooks': [], 'tvSeries': [''], 'playedBy': ['']}, {'url': 'https://anapioficeandfire.com/api/characters/276', 'name': 'Daeron Targaryen', 'gender': 'Male', 'culture': '', 'born': 'In 190 AC or 191 AC', 'died': 'In or between 221 AC and 233 AC', 'titles': ['Prince of Dragonstone', 'Prince of Summerhall'], 'aliases': ['Daeron the Drunken'], 'father': '', 'mother': '', 'spouse': 'https://anapioficeandfire.com/api/characters/1589', 'allegiances': ['https://anapioficeandfire.com/api/houses/378'], 'books': ['https://anapioficeandfire.com/api/books/2', 'https://anapioficeandfire.com/api/books/4', 'https://anapioficeandfire.com/api/books/5', 'https://anapioficeandfire.com/api/books/7', 'https://anapioficeandfire.com/api/books/11'], 'povBooks': [], 'tvSeries': [''], 'playedBy': ['']}, {'url': 'https://anapioficeandfire.com/api/characters/330', 'name': 'Duncan Targaryen', 'gender': 'Male', 'culture': '', 'born': 'In or between 220 AC and 224 AC', 'died': 'In 259 AC, at Summerhall', 'titles': ['Prince'], 'aliases': ['Prince Duncan the Small', 'Prince of Dragonflies'], 'father': '', 'mother': '', 'spouse': 'https://anapioficeandfire.com/api/characters/1539', 'allegiances': ['https://anapioficeandfire.com/api/houses/378'], 'books': ['https://anapioficeandfire.com/api/books/3', 'https://anapioficeandfire.com/api/books/5', 'https://anapioficeandfire.com/api/books/8', 'https://anapioficeandfire.com/api/books/11'], 'povBooks': [], 'tvSeries': [''], 'playedBy': ['']}, {'url': 'https://anapioficeandfire.com/api/characters/334', 'name': 'Dyanna Dayne', 'gender': 'Female', 'culture': '', 'born': '', 'died': 'In or between 201 AC and 209 AC', 'titles': ['Lady'], 'aliases': [''], 'father': '', 'mother': '', 'spouse': 'https://anapioficeandfire.com/api/characters/695', 'allegiances': ['https://anapioficeandfire.com/api/houses/99', 'https://anapioficeandfire.com/api/houses/378'], 'books': ['https://anapioficeandfire.com/api/books/11'], 'povBooks': [], 'tvSeries': [''], 'playedBy': ['']}, {'url': 'https://anapioficeandfire.com/api/characters/361', 'name': 'Elia Martell', 'gender': 'Female', 'culture': '', 'born': 'In 256 AC or 257 AC', 'died': \"In 283 AC, at King's Landing\", 'titles': ['Princess'], 'aliases': ['Elia of Dorne'], 'father': '', 'mother': '', 'spouse': 'https://anapioficeandfire.com/api/characters/867', 'allegiances': ['https://anapioficeandfire.com/api/houses/285', 'https://anapioficeandfire.com/api/houses/378'], 'books': ['https://anapioficeandfire.com/api/books/1', 'https://anapioficeandfire.com/api/books/2', 'https://anapioficeandfire.com/api/books/3', 'https://anapioficeandfire.com/api/books/5', 'https://anapioficeandfire.com/api/books/8'], 'povBooks': [], 'tvSeries': [''], 'playedBy': ['']}, {'url': 'https://anapioficeandfire.com/api/characters/488', 'name': 'Helaena Targaryen', 'gender': 'Female', 'culture': '', 'born': 'In 109 AC', 'died': \"In 130 AC, at King's Landing\", 'titles': ['Queen'], 'aliases': [''], 'father': '', 'mother': '', 'spouse': 'https://anapioficeandfire.com/api/characters/39', 'allegiances': ['https://anapioficeandfire.com/api/houses/378'], 'books': ['https://anapioficeandfire.com/api/books/9', 'https://anapioficeandfire.com/api/books/10', 'https://anapioficeandfire.com/api/books/11'], 'povBooks': [], 'tvSeries': [''], 'playedBy': ['']}, {'url': 'https://anapioficeandfire.com/api/characters/546', 'name': 'Jena Dondarrion', 'gender': 'Female', 'culture': '', 'born': '', 'died': '', 'titles': [''], 'aliases': [''], 'father': '', 'mother': '', 'spouse': 'https://anapioficeandfire.com/api/characters/161', 'allegiances': ['https://anapioficeandfire.com/api/houses/102', 'https://anapioficeandfire.com/api/houses/378'], 'books': ['https://anapioficeandfire.com/api/books/11'], 'povBooks': [], 'tvSeries': [''], 'playedBy': ['']}, {'url': 'https://anapioficeandfire.com/api/characters/560', 'name': 'Jeyne Westerling', 'gender': 'Female', 'culture': '', 'born': 'In 27 AC or before', 'died': 'In 47 AC or 48 AC', 'titles': ['Queen', 'Black Bride'], 'aliases': [''], 'father': '', 'mother': '', 'spouse': 'https://anapioficeandfire.com/api/characters/90', 'allegiances': ['https://anapioficeandfire.com/api/houses/377', 'https://anapioficeandfire.com/api/houses/378', 'https://anapioficeandfire.com/api/houses/425'], 'books': ['https://anapioficeandfire.com/api/books/3', 'https://anapioficeandfire.com/api/books/11'], 'povBooks': [], 'tvSeries': [''], 'playedBy': ['']}, {'url': 'https://anapioficeandfire.com/api/characters/576', 'name': 'Jon Connington', 'gender': 'Male', 'culture': 'Stormlands', 'born': 'In or between 263 AC and 265 AC', 'died': '', 'titles': [\"Lord of Griffin's Roost\", 'Hand of the King', 'Hand of the True King'], 'aliases': [\"Griffthe Mad King's Hand\"], 'father': '', 'mother': '', 'spouse': '', 'allegiances': ['https://anapioficeandfire.com/api/houses/80', 'https://anapioficeandfire.com/api/houses/378'], 'books': ['https://anapioficeandfire.com/api/books/3', 'https://anapioficeandfire.com/api/books/5', 'https://anapioficeandfire.com/api/books/11'], 'povBooks': ['https://anapioficeandfire.com/api/books/8'], 'tvSeries': [''], 'playedBy': ['']}, {'url': 'https://anapioficeandfire.com/api/characters/610', 'name': 'Laena Velaryon', 'gender': 'Female', 'culture': 'Valyrian', 'born': 'In 93 AC', 'died': 'In 120 AC, at Driftmark', 'titles': [''], 'aliases': [''], 'father': '', 'mother': '', 'spouse': 'https://anapioficeandfire.com/api/characters/269', 'allegiances': ['https://anapioficeandfire.com/api/houses/378', 'https://anapioficeandfire.com/api/houses/407'], 'books': ['https://anapioficeandfire.com/api/books/9', 'https://anapioficeandfire.com/api/books/10', 'https://anapioficeandfire.com/api/books/11'], 'povBooks': [], 'tvSeries': [''], 'playedBy': ['']}, {'url': 'https://anapioficeandfire.com/api/characters/611', 'name': 'Laenor Velaryon.', 'gender': 'Male', 'culture': 'Valyrian', 'born': 'In 94 AC', 'died': 'In 120 AC, at Spicetown', 'titles': ['Ser'], 'aliases': [''], 'father': '', 'mother': '', 'spouse': 'https://anapioficeandfire.com/api/characters/874', 'allegiances': ['https://anapioficeandfire.com/api/houses/378', 'https://anapioficeandfire.com/api/houses/407'], 'books': ['https://anapioficeandfire.com/api/books/9', 'https://anapioficeandfire.com/api/books/10', 'https://anapioficeandfire.com/api/books/11'], 'povBooks': [], 'tvSeries': [''], 'playedBy': ['']}, {'url': 'https://anapioficeandfire.com/api/characters/696', 'name': 'Maelor Targaryen', 'gender': 'Male', 'culture': '', 'born': \"In 127 AC, at King's Landing\", 'died': 'In 130 AC, at Bitterbridge', 'titles': ['Prince'], 'aliases': [''], 'father': '', 'mother': '', 'spouse': '', 'allegiances': ['https://anapioficeandfire.com/api/houses/378'], 'books': ['https://anapioficeandfire.com/api/books/9', 'https://anapioficeandfire.com/api/books/10', 'https://anapioficeandfire.com/api/books/11'], 'povBooks': [], 'tvSeries': [''], 'playedBy': ['']}, {'url': 'https://anapioficeandfire.com/api/characters/709', 'name': 'Mariah Martell', 'gender': 'Female', 'culture': 'Dornish', 'born': '', 'died': '', 'titles': ['Princess'], 'aliases': ['Myriah Martell'], 'father': '', 'mother': '', 'spouse': 'https://anapioficeandfire.com/api/characters/274', 'allegiances': ['https://anapioficeandfire.com/api/houses/285', 'https://anapioficeandfire.com/api/houses/378'], 'books': ['https://anapioficeandfire.com/api/books/1', 'https://anapioficeandfire.com/api/books/4', 'https://anapioficeandfire.com/api/books/5', 'https://anapioficeandfire.com/api/books/11'], 'povBooks': [], 'tvSeries': [''], 'playedBy': ['']}, {'url': 'https://anapioficeandfire.com/api/characters/729', 'name': 'Matarys Targaryen', 'gender': 'Male', 'culture': '', 'born': 'In 184 AC or later', 'died': \"In 209 AC, at King's Landing\", 'titles': ['Prince'], 'aliases': ['The Even Younger Prince'], 'father': '', 'mother': '', 'spouse': '', 'allegiances': ['https://anapioficeandfire.com/api/houses/378'], 'books': ['https://anapioficeandfire.com/api/books/4', 'https://anapioficeandfire.com/api/books/6', 'https://anapioficeandfire.com/api/books/7', 'https://anapioficeandfire.com/api/books/11'], 'povBooks': [], 'tvSeries': [''], 'playedBy': ['']}, {'url': 'https://anapioficeandfire.com/api/characters/759', 'name': 'Morgil Hastwyck', 'gender': 'Male', 'culture': '', 'born': '', 'died': '', 'titles': ['Ser'], 'aliases': [''], 'father': '', 'mother': '', 'spouse': '', 'allegiances': ['https://anapioficeandfire.com/api/houses/185', 'https://anapioficeandfire.com/api/houses/378'], 'books': ['https://anapioficeandfire.com/api/books/1', 'https://anapioficeandfire.com/api/books/11'], 'povBooks': [], 'tvSeries': [''], 'playedBy': ['']}, {'url': 'https://anapioficeandfire.com/api/characters/767', 'name': 'Murmison', 'gender': 'Male', 'culture': '', 'born': '', 'died': \"In 41 AC, at King's Landing\", 'titles': ['Septon', 'Hand of the King'], 'aliases': [''], 'father': '', 'mother': '', 'spouse': '', 'allegiances': ['https://anapioficeandfire.com/api/houses/378'], 'books': ['https://anapioficeandfire.com/api/books/3', 'https://anapioficeandfire.com/api/books/11'], 'povBooks': [], 'tvSeries': [''], 'playedBy': ['']}, {'url': 'https://anapioficeandfire.com/api/characters/779', 'name': 'Naerys Targaryen', 'gender': 'Female', 'culture': 'Valyrian', 'born': \"In 138 AC, at King's Landing\", 'died': \"In or between 179 AC and 184 AC, at King's Landing\", 'titles': ['Princess', 'Queen'], 'aliases': [''], 'father': '', 'mother': '', 'spouse': 'https://anapioficeandfire.com/api/characters/41', 'allegiances': ['https://anapioficeandfire.com/api/houses/378'], 'books': ['https://anapioficeandfire.com/api/books/1', 'https://anapioficeandfire.com/api/books/11'], 'povBooks': [], 'tvSeries': [''], 'playedBy': ['']}, {'url': 'https://anapioficeandfire.com/api/characters/797', 'name': 'Orys Baratheon', 'gender': 'Male', 'culture': '', 'born': 'At Dragonstone (possibly)', 'died': 'In 38 AC', 'titles': [\"Lord of Storm's End\", 'Lord Paramount of the Stormlands', 'Hand of the King'], 'aliases': ['Orys One-Hand'], 'father': '', 'mother': '', 'spouse': 'https://anapioficeandfire.com/api/characters/128', 'allegiances': ['https://anapioficeandfire.com/api/houses/17', 'https://anapioficeandfire.com/api/houses/378'], 'books': ['https://anapioficeandfire.com/api/books/1', 'https://anapioficeandfire.com/api/books/11'], 'povBooks': [], 'tvSeries': [''], 'playedBy': ['']}, {'url': 'https://anapioficeandfire.com/api/characters/865', 'name': 'Rhae Targaryen', 'gender': 'Female', 'culture': 'Valyrian', 'born': 'In or between 201 AC and 209 AC', 'died': '', 'titles': ['Princess'], 'aliases': [''], 'father': '', 'mother': '', 'spouse': '', 'allegiances': ['https://anapioficeandfire.com/api/houses/378'], 'books': ['https://anapioficeandfire.com/api/books/6', 'https://anapioficeandfire.com/api/books/11'], 'povBooks': [], 'tvSeries': [''], 'playedBy': ['']}, {'url': 'https://anapioficeandfire.com/api/characters/867', 'name': 'Rhaegar Targaryen', 'gender': 'Male', 'culture': 'Valyrian', 'born': 'In 259 AC, at Summerhall', 'died': 'In 283 AC, at the Trident', 'titles': ['Prince of Dragonstone', 'Ser'], 'aliases': ['Silver Prince', 'The Dragon Prince', 'The Last Dragon'], 'father': '', 'mother': '', 'spouse': 'https://anapioficeandfire.com/api/characters/361', 'allegiances': ['https://anapioficeandfire.com/api/houses/378'], 'books': ['https://anapioficeandfire.com/api/books/1', 'https://anapioficeandfire.com/api/books/2', 'https://anapioficeandfire.com/api/books/3', 'https://anapioficeandfire.com/api/books/5', 'https://anapioficeandfire.com/api/books/8'], 'povBooks': [], 'tvSeries': [''], 'playedBy': ['']}, {'url': 'https://anapioficeandfire.com/api/characters/868', 'name': 'Rhaegel Targaryen', 'gender': 'Male', 'culture': 'Valyrian', 'born': 'In or between 173 AC and 177 AC', 'died': 'In 215 AC', 'titles': ['Prince of Dragonstone'], 'aliases': [''], 'father': '', 'mother': '', 'spouse': 'https://anapioficeandfire.com/api/characters/93', 'allegiances': ['https://anapioficeandfire.com/api/houses/378'], 'books': ['https://anapioficeandfire.com/api/books/4', 'https://anapioficeandfire.com/api/books/7', 'https://anapioficeandfire.com/api/books/11'], 'povBooks': [], 'tvSeries': [''], 'playedBy': ['']}, {'url': 'https://anapioficeandfire.com/api/characters/869', 'name': 'Rhaella Targaryen', 'gender': 'Female', 'culture': 'Valyrian', 'born': \"In 245 AC or 246 AC, at King's Landing\", 'died': 'In 284 AC, at Dragonstone', 'titles': ['Princess', 'Queen', 'Dowager Queen'], 'aliases': [''], 'father': '', 'mother': '', 'spouse': 'https://anapioficeandfire.com/api/characters/62', 'allegiances': ['https://anapioficeandfire.com/api/houses/378'], 'books': ['https://anapioficeandfire.com/api/books/1', 'https://anapioficeandfire.com/api/books/3', 'https://anapioficeandfire.com/api/books/5', 'https://anapioficeandfire.com/api/books/8', 'https://anapioficeandfire.com/api/books/11'], 'povBooks': [], 'tvSeries': [''], 'playedBy': ['']}, {'url': 'https://anapioficeandfire.com/api/characters/870', 'name': 'Rhaelle Targaryen', 'gender': 'Female', 'culture': '', 'born': 'In or between 229 AC and 233 AC', 'died': '', 'titles': ['Princess'], 'aliases': [''], 'father': '', 'mother': '', 'spouse': 'https://anapioficeandfire.com/api/characters/794', 'allegiances': ['https://anapioficeandfire.com/api/houses/17', 'https://anapioficeandfire.com/api/houses/378'], 'books': ['https://anapioficeandfire.com/api/books/5', 'https://anapioficeandfire.com/api/books/8', 'https://anapioficeandfire.com/api/books/11'], 'povBooks': [], 'tvSeries': [''], 'playedBy': ['']}, {'url': 'https://anapioficeandfire.com/api/characters/871', 'name': 'Rhaena Targaryen', 'gender': 'Female', 'culture': '', 'born': 'In 116 AC, at Pentos', 'died': '', 'titles': ['Lady'], 'aliases': ['Rhaena of Pentos'], 'father': '', 'mother': '', 'spouse': 'https://anapioficeandfire.com/api/characters/255', 'allegiances': ['https://anapioficeandfire.com/api/houses/81', 'https://anapioficeandfire.com/api/houses/195', 'https://anapioficeandfire.com/api/houses/378'], 'books': ['https://anapioficeandfire.com/api/books/9', 'https://anapioficeandfire.com/api/books/10', 'https://anapioficeandfire.com/api/books/11'], 'povBooks': [], 'tvSeries': [''], 'playedBy': ['']}, {'url': 'https://anapioficeandfire.com/api/characters/872', 'name': 'Rhaena Targaryen', 'gender': 'Female', 'culture': 'Valyrian', 'born': 'In 147 AC', 'died': '', 'titles': ['Princess', 'Septa'], 'aliases': [''], 'father': '', 'mother': '', 'spouse': '', 'allegiances': ['https://anapioficeandfire.com/api/houses/378'], 'books': ['https://anapioficeandfire.com/api/books/5', 'https://anapioficeandfire.com/api/books/11'], 'povBooks': [], 'tvSeries': [''], 'playedBy': ['']}, {'url': 'https://anapioficeandfire.com/api/characters/873', 'name': 'Rhaena Targaryen', 'gender': 'Female', 'culture': 'Valyrian', 'born': 'In 23 AC', 'died': '', 'titles': ['Princess', 'Queen'], 'aliases': ['Black Bride'], 'father': '', 'mother': '', 'spouse': 'https://anapioficeandfire.com/api/characters/43', 'allegiances': ['https://anapioficeandfire.com/api/houses/378'], 'books': ['https://anapioficeandfire.com/api/books/9', 'https://anapioficeandfire.com/api/books/10', 'https://anapioficeandfire.com/api/books/11'], 'povBooks': [], 'tvSeries': [''], 'playedBy': ['']}, {'url': 'https://anapioficeandfire.com/api/characters/874', 'name': 'Rhaenyra Targaryen', 'gender': 'Female', 'culture': 'Valyrian', 'born': 'In 97 AC', 'died': 'In 130 AC, at Dragonstone', 'titles': ['Princess of Dragonstone', 'Lady of the Seven Kingdoms (claimant)'], 'aliases': [\"The Realm's Delight\", 'The Whore of Dragonstone', 'King Maegor with Teats', \"Maegor's Teats\", 'The Half-Year Queen'], 'father': '', 'mother': '', 'spouse': 'https://anapioficeandfire.com/api/characters/611', 'allegiances': ['https://anapioficeandfire.com/api/houses/378'], 'books': ['https://anapioficeandfire.com/api/books/3', 'https://anapioficeandfire.com/api/books/4', 'https://anapioficeandfire.com/api/books/5', 'https://anapioficeandfire.com/api/books/8', 'https://anapioficeandfire.com/api/books/9', 'https://anapioficeandfire.com/api/books/10', 'https://anapioficeandfire.com/api/books/11'], 'povBooks': [], 'tvSeries': [''], 'playedBy': ['']}, {'url': 'https://anapioficeandfire.com/api/characters/875', 'name': 'Rhaenys Targaryen', 'gender': 'Female', 'culture': 'Valyrian', 'born': 'In 74 AC', 'died': \"In 129 AC, at Rook's Rest\", 'titles': ['Princess'], 'aliases': ['The Queen Who Never Was'], 'father': '', 'mother': '', 'spouse': 'https://anapioficeandfire.com/api/characters/253', 'allegiances': ['https://anapioficeandfire.com/api/houses/378', 'https://anapioficeandfire.com/api/houses/407'], 'books': ['https://anapioficeandfire.com/api/books/9', 'https://anapioficeandfire.com/api/books/10', 'https://anapioficeandfire.com/api/books/11'], 'povBooks': [], 'tvSeries': [''], 'playedBy': ['']}, {'url': 'https://anapioficeandfire.com/api/characters/876', 'name': 'Rhaenys Targaryen', 'gender': 'Female', 'culture': '', 'born': 'In 280 AC, at Dragonstone', 'died': \"In 283 AC, at King's Landing\", 'titles': ['Princess'], 'aliases': [''], 'father': '', 'mother': '', 'spouse': '', 'allegiances': ['https://anapioficeandfire.com/api/houses/378'], 'books': ['https://anapioficeandfire.com/api/books/1', 'https://anapioficeandfire.com/api/books/2', 'https://anapioficeandfire.com/api/books/3', 'https://anapioficeandfire.com/api/books/5', 'https://anapioficeandfire.com/api/books/8'], 'povBooks': [], 'tvSeries': [''], 'playedBy': ['']}, {'url': 'https://anapioficeandfire.com/api/characters/951', 'name': 'Saera Targaryen', 'gender': 'Female', 'culture': 'Valyrian', 'born': 'In or between 61 AC and 82 AC', 'died': '', 'titles': ['Princess'], 'aliases': [''], 'father': '', 'mother': '', 'spouse': '', 'allegiances': ['https://anapioficeandfire.com/api/houses/378'], 'books': ['https://anapioficeandfire.com/api/books/10', 'https://anapioficeandfire.com/api/books/11'], 'povBooks': [], 'tvSeries': [''], 'playedBy': ['']}, {'url': 'https://anapioficeandfire.com/api/characters/971', 'name': 'Shaera Targaryen', 'gender': 'Female', 'culture': 'Valyrian', 'born': 'In 226 AC', 'died': 'In or after 259AC', 'titles': ['Princess', 'Queen'], 'aliases': [''], 'father': '', 'mother': '', 'spouse': 'https://anapioficeandfire.com/api/characters/527', 'allegiances': ['https://anapioficeandfire.com/api/houses/378'], 'books': ['https://anapioficeandfire.com/api/books/11'], 'povBooks': [], 'tvSeries': [''], 'playedBy': ['']}, {'url': 'https://anapioficeandfire.com/api/characters/1067', 'name': 'Valarr Targaryen', 'gender': 'Male', 'culture': 'Valyrian', 'born': 'In or between 183 AC and 193 AC', 'died': \"In 209 AC, at King's Landing\", 'titles': ['Prince  Hand of the King (possibly)'], 'aliases': ['The Young Prince'], 'father': '', 'mother': '', 'spouse': 'https://anapioficeandfire.com/api/characters/1589', 'allegiances': ['https://anapioficeandfire.com/api/houses/378'], 'books': ['https://anapioficeandfire.com/api/books/4', 'https://anapioficeandfire.com/api/books/6', 'https://anapioficeandfire.com/api/books/7'], 'povBooks': [], 'tvSeries': [''], 'playedBy': ['']}, {'url': 'https://anapioficeandfire.com/api/characters/1070', 'name': 'Velaena Velaryon', 'gender': 'Female', 'culture': 'Valyrian', 'born': '', 'died': '', 'titles': ['Lady of Dragonstone'], 'aliases': [''], 'father': '', 'mother': '', 'spouse': 'https://anapioficeandfire.com/api/characters/59', 'allegiances': ['https://anapioficeandfire.com/api/houses/378', 'https://anapioficeandfire.com/api/houses/407'], 'books': ['https://anapioficeandfire.com/api/books/11'], 'povBooks': [], 'tvSeries': [''], 'playedBy': ['']}, {'url': 'https://anapioficeandfire.com/api/characters/1079', 'name': 'Viserys Targaryen', 'gender': 'Male', 'culture': 'Valyrian', 'born': \"In 276 AC, at King's Landing\", 'died': 'In 298 AC, at Vaes Dothrak', 'titles': ['King of the Andals, the Rhoynar and the First Men, Lord of the Seven Kingdoms and Protector of the Realm'], 'aliases': ['The Beggar King', 'Khal Rhaggat (The Cart King)'], 'father': '', 'mother': '', 'spouse': '', 'allegiances': ['https://anapioficeandfire.com/api/houses/378'], 'books': ['https://anapioficeandfire.com/api/books/1', 'https://anapioficeandfire.com/api/books/2', 'https://anapioficeandfire.com/api/books/3', 'https://anapioficeandfire.com/api/books/5', 'https://anapioficeandfire.com/api/books/8', 'https://anapioficeandfire.com/api/books/11'], 'povBooks': [], 'tvSeries': ['Season 1'], 'playedBy': ['Harry Lloyd']}, {'url': 'https://anapioficeandfire.com/api/characters/1114', 'name': 'Willem Darry', 'gender': 'Male', 'culture': '', 'born': '', 'died': 'In 289 AC or 290 AC (roughly), at Braavos', 'titles': ['Ser Master-at-arms at the Red Keep'], 'aliases': [''], 'father': '', 'mother': '', 'spouse': '', 'allegiances': ['https://anapioficeandfire.com/api/houses/97', 'https://anapioficeandfire.com/api/houses/378'], 'books': ['https://anapioficeandfire.com/api/books/1', 'https://anapioficeandfire.com/api/books/2', 'https://anapioficeandfire.com/api/books/3', 'https://anapioficeandfire.com/api/books/8'], 'povBooks': [], 'tvSeries': [''], 'playedBy': ['']}, {'url': 'https://anapioficeandfire.com/api/characters/1142', 'name': 'Aggo', 'gender': 'Male', 'culture': 'Dothraki', 'born': '', 'died': '', 'titles': ['Ko, Bloodrider of Daenerys Targaryen'], 'aliases': [''], 'father': '', 'mother': '', 'spouse': '', 'allegiances': ['https://anapioficeandfire.com/api/houses/378'], 'books': ['https://anapioficeandfire.com/api/books/1', 'https://anapioficeandfire.com/api/books/2', 'https://anapioficeandfire.com/api/books/3', 'https://anapioficeandfire.com/api/books/5', 'https://anapioficeandfire.com/api/books/8'], 'povBooks': [], 'tvSeries': ['Season 6'], 'playedBy': ['Chuku Modu']}, {'url': 'https://anapioficeandfire.com/api/characters/1205', 'name': 'Belwas', 'gender': 'Male', 'culture': 'Meereenese', 'born': '', 'died': '', 'titles': [''], 'aliases': ['Strong Belwas', 'Belwas the Strong'], 'father': '', 'mother': '', 'spouse': '', 'allegiances': ['https://anapioficeandfire.com/api/houses/378'], 'books': ['https://anapioficeandfire.com/api/books/2', 'https://anapioficeandfire.com/api/books/3', 'https://anapioficeandfire.com/api/books/5', 'https://anapioficeandfire.com/api/books/8'], 'povBooks': [], 'tvSeries': [''], 'playedBy': ['']}, {'url': 'https://anapioficeandfire.com/api/characters/1242', 'name': 'Brynden Rivers', 'gender': 'Male', 'culture': 'Valyrian', 'born': \"In 175 AC, at King's Landing\", 'died': 'In 252 AC(presumed), at beyond the Wall', 'titles': ['Ser', 'Hand of the King', \"Lord Commander of the Night's Watch\"], 'aliases': ['Lord Bloodraven', 'The three-eyed crow'], 'father': '', 'mother': '', 'spouse': '', 'allegiances': ['https://anapioficeandfire.com/api/houses/378'], 'books': ['https://anapioficeandfire.com/api/books/5', 'https://anapioficeandfire.com/api/books/6', 'https://anapioficeandfire.com/api/books/7', 'https://anapioficeandfire.com/api/books/8', 'https://anapioficeandfire.com/api/books/11'], 'povBooks': [], 'tvSeries': ['Season 4', 'Season 6'], 'playedBy': ['Struan Rodger', 'Max Von Sydow']}, {'url': 'https://anapioficeandfire.com/api/characters/1302', 'name': 'Daenaera Velaryon', 'gender': 'Female', 'culture': 'Valyrian', 'born': 'In 127 AC', 'died': '', 'titles': ['Queen'], 'aliases': [''], 'father': '', 'mother': '', 'spouse': 'https://anapioficeandfire.com/api/characters/40', 'allegiances': ['https://anapioficeandfire.com/api/houses/378', 'https://anapioficeandfire.com/api/houses/407'], 'books': [], 'povBooks': [], 'tvSeries': [''], 'playedBy': ['']}, {'url': 'https://anapioficeandfire.com/api/characters/1303', 'name': 'Daenerys Targaryen', 'gender': 'Female', 'culture': 'Valyrian', 'born': 'In 284 AC, at Dragonstone', 'died': '', 'titles': ['Queen of the Andals and the Rhoynar and the First Men, Lord of the Seven Kingdoms', 'Khaleesi of the Great Grass Sea', 'Breaker of Shackles/Chains', 'Queen of Meereen', 'Princess of Dragonstone'], 'aliases': ['Dany', 'Daenerys Stormborn', 'The Unburnt', 'Mother of Dragons', 'Mother', 'Mhysa', 'The Silver Queen', 'Silver Lady', 'Dragonmother', 'The Dragon Queen', \"The Mad King's daughter\"], 'father': '', 'mother': '', 'spouse': 'https://anapioficeandfire.com/api/characters/1346', 'allegiances': ['https://anapioficeandfire.com/api/houses/378'], 'books': ['https://anapioficeandfire.com/api/books/5'], 'povBooks': ['https://anapioficeandfire.com/api/books/1', 'https://anapioficeandfire.com/api/books/2', 'https://anapioficeandfire.com/api/books/3', 'https://anapioficeandfire.com/api/books/8'], 'tvSeries': ['Season 1', 'Season 2', 'Season 3', 'Season 4', 'Season 5', 'Season 6'], 'playedBy': ['Emilia Clarke']}, {'url': 'https://anapioficeandfire.com/api/characters/1340', 'name': 'Doreah', 'gender': 'Female', 'culture': 'Lysene', 'born': 'In 278 or 279 AC', 'died': 'In 299 AC, at Red waste', 'titles': [''], 'aliases': [''], 'father': '', 'mother': '', 'spouse': '', 'allegiances': ['https://anapioficeandfire.com/api/houses/378'], 'books': ['https://anapioficeandfire.com/api/books/1', 'https://anapioficeandfire.com/api/books/2', 'https://anapioficeandfire.com/api/books/8'], 'povBooks': [], 'tvSeries': ['Season 1', 'Season 2'], 'playedBy': ['Roxanne McKee']}, {'url': 'https://anapioficeandfire.com/api/characters/1358', 'name': 'Elaena Targaryen', 'gender': 'Female', 'culture': 'Valyrian', 'born': 'In 150 AC', 'died': 'In or after 220 AC', 'titles': ['Princess'], 'aliases': [''], 'father': '', 'mother': '', 'spouse': 'https://anapioficeandfire.com/api/characters/803', 'allegiances': ['https://anapioficeandfire.com/api/houses/257', 'https://anapioficeandfire.com/api/houses/300', 'https://anapioficeandfire.com/api/houses/303', 'https://anapioficeandfire.com/api/houses/378'], 'books': ['https://anapioficeandfire.com/api/books/3', 'https://anapioficeandfire.com/api/books/5', 'https://anapioficeandfire.com/api/books/8', 'https://anapioficeandfire.com/api/books/11'], 'povBooks': [], 'tvSeries': [''], 'playedBy': ['']}, {'url': 'https://anapioficeandfire.com/api/characters/1445', 'name': 'Grey Worm', 'gender': 'Male', 'culture': '', 'born': '', 'died': '', 'titles': [''], 'aliases': [''], 'father': '', 'mother': '', 'spouse': '', 'allegiances': ['https://anapioficeandfire.com/api/houses/378'], 'books': ['https://anapioficeandfire.com/api/books/3', 'https://anapioficeandfire.com/api/books/5', 'https://anapioficeandfire.com/api/books/8'], 'povBooks': [], 'tvSeries': ['Season 3', 'Season 4', 'Season 5', 'Season 6'], 'playedBy': ['Jacob Anderson']}, {'url': 'https://anapioficeandfire.com/api/characters/1450', 'name': 'Groleo', 'gender': 'Male', 'culture': 'Pentoshi', 'born': '', 'died': 'In 300 AC, at Meereen', 'titles': ['Captain', 'Lord Admiral'], 'aliases': [''], 'father': '', 'mother': '', 'spouse': '', 'allegiances': ['https://anapioficeandfire.com/api/houses/378'], 'books': ['https://anapioficeandfire.com/api/books/3', 'https://anapioficeandfire.com/api/books/5', 'https://anapioficeandfire.com/api/books/8'], 'povBooks': [], 'tvSeries': [''], 'playedBy': ['']}, {'url': 'https://anapioficeandfire.com/api/characters/1469', 'name': 'Haldon', 'gender': 'Male', 'culture': '', 'born': '', 'died': '', 'titles': [''], 'aliases': ['Haldon Halfmaester'], 'father': '', 'mother': '', 'spouse': '', 'allegiances': ['https://anapioficeandfire.com/api/houses/378'], 'books': ['https://anapioficeandfire.com/api/books/8'], 'povBooks': [], 'tvSeries': [''], 'playedBy': ['']}, {'url': 'https://anapioficeandfire.com/api/characters/1520', 'name': 'Illyrio Mopatis', 'gender': 'Male', 'culture': 'Pentoshi', 'born': 'At Pentos', 'died': '', 'titles': ['Magister of Pentos'], 'aliases': ['The Cheesemonger', 'The Fat Man', 'The Lord of Cheese'], 'father': '', 'mother': '', 'spouse': 'https://anapioficeandfire.com/api/characters/1521', 'allegiances': ['https://anapioficeandfire.com/api/houses/378'], 'books': ['https://anapioficeandfire.com/api/books/1', 'https://anapioficeandfire.com/api/books/2', 'https://anapioficeandfire.com/api/books/3', 'https://anapioficeandfire.com/api/books/5', 'https://anapioficeandfire.com/api/books/8'], 'povBooks': [], 'tvSeries': ['Season 1'], 'playedBy': ['Roger Allam']}, {'url': 'https://anapioficeandfire.com/api/characters/1523', 'name': 'Irri', 'gender': 'Female', 'culture': 'Dothraki', 'born': 'In 283 AC or 284 AC', 'died': '', 'titles': [''], 'aliases': [''], 'father': '', 'mother': '', 'spouse': '', 'allegiances': ['https://anapioficeandfire.com/api/houses/378'], 'books': ['https://anapioficeandfire.com/api/books/1', 'https://anapioficeandfire.com/api/books/2', 'https://anapioficeandfire.com/api/books/3', 'https://anapioficeandfire.com/api/books/5', 'https://anapioficeandfire.com/api/books/8'], 'povBooks': [], 'tvSeries': ['Season 1', 'Season 2'], 'playedBy': ['Amrita Acharia']}, {'url': 'https://anapioficeandfire.com/api/characters/1527', 'name': 'Jaehaera Targaryen', 'gender': 'Female', 'culture': 'Valyrian', 'born': 'In 123 AC', 'died': \"In 133 AC, at King's Landing\", 'titles': ['Princess', 'Queen'], 'aliases': [''], 'father': '', 'mother': '', 'spouse': 'https://anapioficeandfire.com/api/characters/40', 'allegiances': ['https://anapioficeandfire.com/api/houses/378'], 'books': ['https://anapioficeandfire.com/api/books/9', 'https://anapioficeandfire.com/api/books/10', 'https://anapioficeandfire.com/api/books/11'], 'povBooks': [], 'tvSeries': [''], 'playedBy': ['']}, {'url': 'https://anapioficeandfire.com/api/characters/1528', 'name': 'Jaehaerys Targaryen', 'gender': 'Male', 'culture': '', 'born': 'In 123 AC', 'died': \"In 129 AC, at the Tower of the Hand at King's Landing\", 'titles': ['Prince'], 'aliases': [''], 'father': '', 'mother': '', 'spouse': '', 'allegiances': ['https://anapioficeandfire.com/api/houses/378'], 'books': ['https://anapioficeandfire.com/api/books/9', 'https://anapioficeandfire.com/api/books/10'], 'povBooks': [], 'tvSeries': [''], 'playedBy': ['']}, {'url': 'https://anapioficeandfire.com/api/characters/1548', 'name': 'Jhiqui', 'gender': 'Female', 'culture': 'Dothraki', 'born': 'In 284 AC', 'died': '', 'titles': [''], 'aliases': [''], 'father': '', 'mother': '', 'spouse': '', 'allegiances': ['https://anapioficeandfire.com/api/houses/378'], 'books': ['https://anapioficeandfire.com/api/books/1', 'https://anapioficeandfire.com/api/books/2', 'https://anapioficeandfire.com/api/books/3', 'https://anapioficeandfire.com/api/books/5', 'https://anapioficeandfire.com/api/books/8'], 'povBooks': [], 'tvSeries': ['Season 1'], 'playedBy': ['Sarita Piotrowski']}, {'url': 'https://anapioficeandfire.com/api/characters/1549', 'name': 'Jhogo', 'gender': 'Male', 'culture': 'Dothraki', 'born': 'In or between 281 AC and 283 AC, at Dothraki sea', 'died': '', 'titles': ['Ko', 'Bloodrider'], 'aliases': [''], 'father': '', 'mother': '', 'spouse': '', 'allegiances': ['https://anapioficeandfire.com/api/houses/378'], 'books': ['https://anapioficeandfire.com/api/books/1', 'https://anapioficeandfire.com/api/books/2', 'https://anapioficeandfire.com/api/books/3', 'https://anapioficeandfire.com/api/books/5', 'https://anapioficeandfire.com/api/books/8'], 'povBooks': [], 'tvSeries': [''], 'playedBy': ['']}, {'url': 'https://anapioficeandfire.com/api/characters/1560', 'name': 'Jorah Mormont', 'gender': 'Male', 'culture': 'Northmen', 'born': 'In 254 AC (roughly)', 'died': '', 'titles': ['Ser', 'Lord of Bear Island (stripped)'], 'aliases': ['Jorah the Andal', 'Bear'], 'father': '', 'mother': '', 'spouse': '', 'allegiances': ['https://anapioficeandfire.com/api/houses/271', 'https://anapioficeandfire.com/api/houses/378'], 'books': ['https://anapioficeandfire.com/api/books/1', 'https://anapioficeandfire.com/api/books/2', 'https://anapioficeandfire.com/api/books/3', 'https://anapioficeandfire.com/api/books/5', 'https://anapioficeandfire.com/api/books/8'], 'povBooks': [], 'tvSeries': ['Season 1', 'Season 2', 'Season 3', 'Season 4', 'Season 5', 'Season 6'], 'playedBy': ['Iain Glen']}, {'url': 'https://anapioficeandfire.com/api/characters/1589', 'name': 'Kiera of Tyrosh', 'gender': 'Female', 'culture': 'Tyroshi', 'born': '', 'died': '', 'titles': ['Lady'], 'aliases': [''], 'father': '', 'mother': '', 'spouse': 'https://anapioficeandfire.com/api/characters/1067', 'allegiances': ['https://anapioficeandfire.com/api/houses/378'], 'books': ['https://anapioficeandfire.com/api/books/7', 'https://anapioficeandfire.com/api/books/11'], 'povBooks': [], 'tvSeries': [''], 'playedBy': ['']}, {'url': 'https://anapioficeandfire.com/api/characters/1608', 'name': 'Larra Rogare', 'gender': 'Female', 'culture': 'Lysene', 'born': 'In 115 AC, at Lys', 'died': 'In 145 AC, at Lys', 'titles': [''], 'aliases': [''], 'father': '', 'mother': '', 'spouse': 'https://anapioficeandfire.com/api/characters/1077', 'allegiances': ['https://anapioficeandfire.com/api/houses/378'], 'books': ['https://anapioficeandfire.com/api/books/11'], 'povBooks': [], 'tvSeries': [''], 'playedBy': ['']}, {'url': 'https://anapioficeandfire.com/api/characters/1709', 'name': 'Missandei', 'gender': 'Female', 'culture': 'Naathi', 'born': 'In 288 AC or 289 AC, at Naath', 'died': '', 'titles': [''], 'aliases': [''], 'father': '', 'mother': '', 'spouse': '', 'allegiances': ['https://anapioficeandfire.com/api/houses/378'], 'books': ['https://anapioficeandfire.com/api/books/3', 'https://anapioficeandfire.com/api/books/5', 'https://anapioficeandfire.com/api/books/8'], 'povBooks': [], 'tvSeries': ['Season 3', 'Season 4', 'Season 5', 'Season 6'], 'playedBy': ['Nathalie Emmanuel']}, {'url': 'https://anapioficeandfire.com/api/characters/1739', 'name': 'Mushroom', 'gender': 'Male', 'culture': '', 'born': '', 'died': 'In or after 136AC', 'titles': [''], 'aliases': ['Mushroom'], 'father': '', 'mother': '', 'spouse': '', 'allegiances': ['https://anapioficeandfire.com/api/houses/378'], 'books': ['https://anapioficeandfire.com/api/books/9', 'https://anapioficeandfire.com/api/books/10', 'https://anapioficeandfire.com/api/books/11'], 'povBooks': [], 'tvSeries': [''], 'playedBy': ['']}, {'url': 'https://anapioficeandfire.com/api/characters/1826', 'name': 'Pycelle', 'gender': 'Male', 'culture': '', 'born': 'In 216 AC', 'died': \"In 300 AC, at the Red Keep, King's Landing\", 'titles': ['Grand Maester'], 'aliases': [''], 'father': '', 'mother': '', 'spouse': '', 'allegiances': ['https://anapioficeandfire.com/api/houses/16', 'https://anapioficeandfire.com/api/houses/229', 'https://anapioficeandfire.com/api/houses/378'], 'books': ['https://anapioficeandfire.com/api/books/1', 'https://anapioficeandfire.com/api/books/2', 'https://anapioficeandfire.com/api/books/3', 'https://anapioficeandfire.com/api/books/5', 'https://anapioficeandfire.com/api/books/8'], 'povBooks': [], 'tvSeries': ['Season 1', 'Season 2', 'Season 3', 'Season 4', 'Season 5', 'Season 6'], 'playedBy': ['Julian Glover']}, {'url': 'https://anapioficeandfire.com/api/characters/1856', 'name': 'Rakharo', 'gender': 'Male', 'culture': 'Dothraki', 'born': '', 'died': '', 'titles': ['Ko', 'Bloodrider of Daenerys Targaryen'], 'aliases': [''], 'father': '', 'mother': '', 'spouse': '', 'allegiances': ['https://anapioficeandfire.com/api/houses/378'], 'books': ['https://anapioficeandfire.com/api/books/1', 'https://anapioficeandfire.com/api/books/2', 'https://anapioficeandfire.com/api/books/3', 'https://anapioficeandfire.com/api/books/5', 'https://anapioficeandfire.com/api/books/8'], 'povBooks': [], 'tvSeries': ['Season 1', 'Season 2'], 'playedBy': ['Elyes Gabel']}, {'url': 'https://anapioficeandfire.com/api/characters/1867', 'name': 'Red Lamb', 'gender': 'Male', 'culture': 'Lhazareen', 'born': '', 'died': '', 'titles': ['Ser'], 'aliases': ['Red Lamb'], 'father': '', 'mother': '', 'spouse': '', 'allegiances': ['https://anapioficeandfire.com/api/houses/378'], 'books': ['https://anapioficeandfire.com/api/books/8'], 'povBooks': [], 'tvSeries': [''], 'playedBy': ['']}, {'url': 'https://anapioficeandfire.com/api/characters/1872', 'name': 'Reznak mo Reznak', 'gender': 'Male', 'culture': 'Ghiscari', 'born': 'At Meereen', 'died': '', 'titles': ['Seneschal'], 'aliases': [''], 'father': '', 'mother': '', 'spouse': '', 'allegiances': ['https://anapioficeandfire.com/api/houses/378'], 'books': ['https://anapioficeandfire.com/api/books/8'], 'povBooks': [], 'tvSeries': [''], 'playedBy': ['']}, {'url': 'https://anapioficeandfire.com/api/characters/1873', 'name': 'Rhaego', 'gender': 'Male', 'culture': '', 'born': 'In 298 AC, at Dothraki Sea', 'died': 'In 298 AC or 299 AC, at Lhazar', 'titles': [''], 'aliases': ['The stallion who mounts the world'], 'father': '', 'mother': '', 'spouse': '', 'allegiances': ['https://anapioficeandfire.com/api/houses/378'], 'books': ['https://anapioficeandfire.com/api/books/1', 'https://anapioficeandfire.com/api/books/2', 'https://anapioficeandfire.com/api/books/3', 'https://anapioficeandfire.com/api/books/5'], 'povBooks': [], 'tvSeries': [''], 'playedBy': ['']}, {'url': 'https://anapioficeandfire.com/api/characters/1874', 'name': 'Rhaenys Targaryen', 'gender': 'Female', 'culture': 'Valyrian', 'born': 'In 25BC or 26BC, at Dragonstone', 'died': 'In 10 AC, at Hellholt', 'titles': ['Queen'], 'aliases': [''], 'father': '', 'mother': '', 'spouse': 'https://anapioficeandfire.com/api/characters/38', 'allegiances': ['https://anapioficeandfire.com/api/houses/378'], 'books': ['https://anapioficeandfire.com/api/books/1', 'https://anapioficeandfire.com/api/books/11'], 'povBooks': [], 'tvSeries': [''], 'playedBy': ['']}, {'url': 'https://anapioficeandfire.com/api/characters/1897', 'name': 'Rolly Duckfield', 'gender': 'Male', 'culture': '', 'born': 'At Bitterbridge', 'died': '', 'titles': ['Ser'], 'aliases': ['Duck', 'Ser Duck'], 'father': '', 'mother': '', 'spouse': '', 'allegiances': ['https://anapioficeandfire.com/api/houses/378'], 'books': ['https://anapioficeandfire.com/api/books/8'], 'povBooks': [], 'tvSeries': [''], 'playedBy': ['']}, {'url': 'https://anapioficeandfire.com/api/characters/1944', 'name': 'Shiera Seastar', 'gender': 'Female', 'culture': 'Westeros', 'born': 'In or between 178 AC and 184 AC', 'died': '', 'titles': [''], 'aliases': [''], 'father': '', 'mother': '', 'spouse': '', 'allegiances': ['https://anapioficeandfire.com/api/houses/378'], 'books': ['https://anapioficeandfire.com/api/books/6', 'https://anapioficeandfire.com/api/books/8', 'https://anapioficeandfire.com/api/books/11'], 'povBooks': [], 'tvSeries': [''], 'playedBy': ['']}, {'url': 'https://anapioficeandfire.com/api/characters/1948', 'name': 'Skahaz mo Kandaq', 'gender': 'Male', 'culture': 'Ghiscari', 'born': 'At Meereen', 'died': '', 'titles': [''], 'aliases': ['The Shavepate', 'Skahaz Shavepate'], 'father': '', 'mother': '', 'spouse': '', 'allegiances': ['https://anapioficeandfire.com/api/houses/378'], 'books': ['https://anapioficeandfire.com/api/books/8'], 'povBooks': [], 'tvSeries': [''], 'playedBy': ['']}, {'url': 'https://anapioficeandfire.com/api/characters/1978', 'name': 'Symon Stripeback', 'gender': 'Male', 'culture': '', 'born': '', 'died': '', 'titles': [''], 'aliases': [''], 'father': '', 'mother': '', 'spouse': '', 'allegiances': ['https://anapioficeandfire.com/api/houses/378'], 'books': ['https://anapioficeandfire.com/api/books/8'], 'povBooks': [], 'tvSeries': [''], 'playedBy': ['']}, {'url': 'https://anapioficeandfire.com/api/characters/1981', 'name': 'Tal Toraq', 'gender': 'Male', 'culture': 'Summer Isles', 'born': '', 'died': '', 'titles': [''], 'aliases': [''], 'father': '', 'mother': '', 'spouse': '', 'allegiances': ['https://anapioficeandfire.com/api/houses/378'], 'books': ['https://anapioficeandfire.com/api/books/8'], 'povBooks': [], 'tvSeries': [''], 'playedBy': ['']}, {'url': 'https://anapioficeandfire.com/api/characters/2071', 'name': 'Visenya Targaryen', 'gender': 'Female', 'culture': 'Valyrian', 'born': 'In 28BC or 29BC, at Dragonstone', 'died': 'In 44 AC', 'titles': ['Queen', 'Dowager Queen'], 'aliases': [''], 'father': '', 'mother': '', 'spouse': 'https://anapioficeandfire.com/api/characters/38', 'allegiances': ['https://anapioficeandfire.com/api/houses/378'], 'books': ['https://anapioficeandfire.com/api/books/1', 'https://anapioficeandfire.com/api/books/2', 'https://anapioficeandfire.com/api/books/3', 'https://anapioficeandfire.com/api/books/5', 'https://anapioficeandfire.com/api/books/8', 'https://anapioficeandfire.com/api/books/11'], 'povBooks': [], 'tvSeries': [''], 'playedBy': ['']}, {'url': 'https://anapioficeandfire.com/api/characters/2086', 'name': 'Wate', 'gender': 'Male', 'culture': '', 'born': '', 'died': '', 'titles': [''], 'aliases': [''], 'father': '', 'mother': '', 'spouse': '', 'allegiances': ['https://anapioficeandfire.com/api/houses/378'], 'books': ['https://anapioficeandfire.com/api/books/4'], 'povBooks': [], 'tvSeries': [''], 'playedBy': ['']}, {'url': 'https://anapioficeandfire.com/api/characters/2124', 'name': 'Yandry', 'gender': 'Male', 'culture': '', 'born': '', 'died': '', 'titles': [''], 'aliases': [''], 'father': '', 'mother': '', 'spouse': 'https://anapioficeandfire.com/api/characters/2132', 'allegiances': ['https://anapioficeandfire.com/api/houses/378'], 'books': ['https://anapioficeandfire.com/api/books/8'], 'povBooks': [], 'tvSeries': [''], 'playedBy': ['']}, {'url': 'https://anapioficeandfire.com/api/characters/2128', 'name': 'Yorkel', 'gender': 'Male', 'culture': '', 'born': '', 'died': '', 'titles': [''], 'aliases': [''], 'father': '', 'mother': '', 'spouse': '', 'allegiances': ['https://anapioficeandfire.com/api/houses/378'], 'books': ['https://anapioficeandfire.com/api/books/4'], 'povBooks': [], 'tvSeries': [''], 'playedBy': ['']}]\n"
          ]
        }
      ]
    },
    {
      "cell_type": "code",
      "source": [
        "def select_data(character):\n",
        "    return {\n",
        "        \"name\": character[\"name\"],\n",
        "        \"gender\": character[\"gender\"],\n",
        "        \"culture\": character[\"culture\"],\n",
        "        \"born\": character[\"born\"],\n",
        "        \"died\": character[\"died\"],\n",
        "        \"titles\": character[\"titles\"]\n",
        "    }\n",
        "targaryens = []\n",
        "\n",
        "for x in targaryen:\n",
        "  targaryens.append(select_data(x))"
      ],
      "metadata": {
        "colab": {
          "base_uri": "https://localhost:8080/"
        },
        "id": "lRzrKokVO-tf",
        "outputId": "4c2a5d9f-543f-4e62-d134-1d079b6cecc6"
      },
      "execution_count": 16,
      "outputs": [
        {
          "output_type": "stream",
          "name": "stdout",
          "text": [
            "[{'name': 'Addam Velaryon', 'gender': 'Male', 'culture': 'Valyrian', 'born': 'In 114 AC, at Hull', 'died': 'In 130 AC, at Tumbleton', 'titles': ['Ser']}, {'name': 'Aegon Targaryen', 'gender': 'Male', 'culture': 'Valyrian', 'born': 'In 281 AC or 282 AC, at Dragonstone', 'died': \"In 283 AC (Supposedly), at King's Landing\", 'titles': ['']}, {'name': 'Aegon Targaryen', 'gender': 'Male', 'culture': 'Valyrian', 'born': 'In 26 AC', 'died': 'In 43 AC, at Gods Eye', 'titles': ['Prince']}, {'name': 'Aegon Targaryen', 'gender': 'Male', 'culture': 'Valyrian', 'born': '', 'died': '', 'titles': ['Prince']}, {'name': 'Aegon Targaryen', 'gender': 'Male', 'culture': 'Valyrian', 'born': 'In or between 50 AC and 59 AC', 'died': '', 'titles': ['Prince']}, {'name': 'Aelinor Penrose', 'gender': 'Female', 'culture': 'Valyrian', 'born': '', 'died': '', 'titles': ['Queen']}, {'name': 'Aemma Arryn', 'gender': 'Female', 'culture': '', 'born': 'In 82 AC', 'died': 'In 105 AC', 'titles': ['Queen']}, {'name': 'Aemond Targaryen', 'gender': 'Male', 'culture': 'Valyrian', 'born': 'In 110 AC', 'died': 'In 130 AC, at the Gods Eye', 'titles': ['Prince', 'Protector of the Realm', 'Prince Regent']}, {'name': 'Aerion Targaryen', 'gender': 'Male', 'culture': 'Valyrian', 'born': 'In or between 191 AC and 194 AC', 'died': 'In 232 AC', 'titles': ['Prince']}, {'name': 'Aerion Targaryen', 'gender': 'Male', 'culture': 'Valyrian', 'born': 'At Dragonstone', 'died': 'At Dragonstone', 'titles': ['Lord of Dragonstone']}, {'name': 'Alicent Hightower', 'gender': 'Female', 'culture': '', 'born': 'In 88 AC', 'died': 'In 133 AC', 'titles': ['Lady', 'Queen', 'Dowager Queen']}, {'name': 'Alyn Velaryon', 'gender': 'Male', 'culture': 'Valyrian', 'born': 'In 115 AC or later, at Hull, Driftmark', 'died': 'In or between 171 AC and 176 AC, at sea', 'titles': ['Lord of the Tides', 'Master of Driftmark', 'Admiral', 'Master of ships']}, {'name': 'Alys Arryn', 'gender': 'Female', 'culture': '', 'born': '', 'died': '', 'titles': ['']}, {'name': 'Alyssa Targaryen', 'gender': 'Female', 'culture': 'Valyrian', 'born': 'In or between 51 AC and 60 AC', 'died': '', 'titles': ['Princess']}, {'name': 'Alyssa Velaryon', 'gender': 'Female', 'culture': 'Valyrian', 'born': 'In 7 AC', 'died': '', 'titles': ['Lady', 'Queen', 'Dowager Queen', 'Queen Regent', \"Lady of Storm's End\"]}, {'name': 'Baela Targaryen', 'gender': 'Female', 'culture': 'Valyrian', 'born': 'In 116 AC, at Pentos', 'died': '', 'titles': ['Lady']}, {'name': 'Baelon Targaryen', 'gender': 'Male', 'culture': 'Valyrian', 'born': 'At Dragonstone', 'died': '', 'titles': ['']}, {'name': 'Baelon Targaryen', 'gender': 'Male', 'culture': 'Valyrian', 'born': \"In 105 AC, at King's Landing\", 'died': \"In 105 AC, at King's Landing\", 'titles': ['Prince']}, {'name': 'Baelon Targaryen', 'gender': 'Male', 'culture': 'Valyrian', 'born': 'In or between 53 AC and 64 AC', 'died': 'In 101 AC', 'titles': ['Prince of Dragonstone', 'Hand of the King']}, {'name': 'Baelor Targaryen', 'gender': 'Male', 'culture': '', 'born': 'In 170 AC', 'died': 'In 209 AC, at Ashford', 'titles': ['Prince of Dragonstone', 'Protector of the Realm', 'Hand of the King']}, {'name': 'Barristan Selmy', 'gender': 'Male', 'culture': 'Westeros', 'born': 'In 237 AC', 'died': '', 'titles': ['Ser', 'Hand of the Queen']}, {'name': 'Barth', 'gender': 'Male', 'culture': '', 'born': '', 'died': 'In 99 AC', 'titles': ['Septon', 'Hand of the King']}, {'name': 'Betha Blackwood', 'gender': 'Female', 'culture': '', 'born': 'At Raventree Hall', 'died': '', 'titles': ['Lady', 'Queen']}, {'name': 'Ceryse Hightower', 'gender': 'Female', 'culture': '', 'born': 'In 2 AC', 'died': \"In 45 AC, at King's Landing\", 'titles': ['Lady', 'Queen']}, {'name': 'Daella Targaryen', 'gender': 'Female', 'culture': 'Valyrian', 'born': 'In or between 54 AC and 66 AC', 'died': 'In 82 AC', 'titles': ['Princess', 'Lady of the Eyrie']}, {'name': 'Daella Targaryen', 'gender': 'Female', 'culture': 'Valyrian', 'born': 'In 199 AC', 'died': '', 'titles': ['Princess']}, {'name': 'Daemon Targaryen', 'gender': 'Male', 'culture': 'Valyrian', 'born': 'In 81 AC', 'died': 'In 130 AC, at the Gods Eye', 'titles': ['Prince', 'Commander of the City Watch', 'Master of coin', 'Master of laws', 'King of the Stepstones and the Narrow Sea', 'Protector of the Realm']}, {'name': 'Daena Targaryen', 'gender': 'Female', 'culture': 'Valyrian', 'born': \"In 145 AC, at King's Landing\", 'died': '', 'titles': ['Princess']}, {'name': 'Daenerys Targaryen', 'gender': 'Female', 'culture': '', 'born': 'In 172 AC', 'died': '', 'titles': ['Princess']}, {'name': 'Daenora Targaryen', 'gender': 'Female', 'culture': 'Valyrian', 'born': '', 'died': '', 'titles': ['Princess']}, {'name': 'Daeron Targaryen', 'gender': 'Male', 'culture': '', 'born': 'In 114 AC', 'died': 'In 130 AC, at Tumbleton', 'titles': ['Prince', 'Ser']}, {'name': 'Daeron Targaryen', 'gender': 'Male', 'culture': '', 'born': 'In 190 AC or 191 AC', 'died': 'In or between 221 AC and 233 AC', 'titles': ['Prince of Dragonstone', 'Prince of Summerhall']}, {'name': 'Duncan Targaryen', 'gender': 'Male', 'culture': '', 'born': 'In or between 220 AC and 224 AC', 'died': 'In 259 AC, at Summerhall', 'titles': ['Prince']}, {'name': 'Dyanna Dayne', 'gender': 'Female', 'culture': '', 'born': '', 'died': 'In or between 201 AC and 209 AC', 'titles': ['Lady']}, {'name': 'Elia Martell', 'gender': 'Female', 'culture': '', 'born': 'In 256 AC or 257 AC', 'died': \"In 283 AC, at King's Landing\", 'titles': ['Princess']}, {'name': 'Helaena Targaryen', 'gender': 'Female', 'culture': '', 'born': 'In 109 AC', 'died': \"In 130 AC, at King's Landing\", 'titles': ['Queen']}, {'name': 'Jena Dondarrion', 'gender': 'Female', 'culture': '', 'born': '', 'died': '', 'titles': ['']}, {'name': 'Jeyne Westerling', 'gender': 'Female', 'culture': '', 'born': 'In 27 AC or before', 'died': 'In 47 AC or 48 AC', 'titles': ['Queen', 'Black Bride']}, {'name': 'Jon Connington', 'gender': 'Male', 'culture': 'Stormlands', 'born': 'In or between 263 AC and 265 AC', 'died': '', 'titles': [\"Lord of Griffin's Roost\", 'Hand of the King', 'Hand of the True King']}, {'name': 'Laena Velaryon', 'gender': 'Female', 'culture': 'Valyrian', 'born': 'In 93 AC', 'died': 'In 120 AC, at Driftmark', 'titles': ['']}, {'name': 'Laenor Velaryon.', 'gender': 'Male', 'culture': 'Valyrian', 'born': 'In 94 AC', 'died': 'In 120 AC, at Spicetown', 'titles': ['Ser']}, {'name': 'Maelor Targaryen', 'gender': 'Male', 'culture': '', 'born': \"In 127 AC, at King's Landing\", 'died': 'In 130 AC, at Bitterbridge', 'titles': ['Prince']}, {'name': 'Mariah Martell', 'gender': 'Female', 'culture': 'Dornish', 'born': '', 'died': '', 'titles': ['Princess']}, {'name': 'Matarys Targaryen', 'gender': 'Male', 'culture': '', 'born': 'In 184 AC or later', 'died': \"In 209 AC, at King's Landing\", 'titles': ['Prince']}, {'name': 'Morgil Hastwyck', 'gender': 'Male', 'culture': '', 'born': '', 'died': '', 'titles': ['Ser']}, {'name': 'Murmison', 'gender': 'Male', 'culture': '', 'born': '', 'died': \"In 41 AC, at King's Landing\", 'titles': ['Septon', 'Hand of the King']}, {'name': 'Naerys Targaryen', 'gender': 'Female', 'culture': 'Valyrian', 'born': \"In 138 AC, at King's Landing\", 'died': \"In or between 179 AC and 184 AC, at King's Landing\", 'titles': ['Princess', 'Queen']}, {'name': 'Orys Baratheon', 'gender': 'Male', 'culture': '', 'born': 'At Dragonstone (possibly)', 'died': 'In 38 AC', 'titles': [\"Lord of Storm's End\", 'Lord Paramount of the Stormlands', 'Hand of the King']}, {'name': 'Rhae Targaryen', 'gender': 'Female', 'culture': 'Valyrian', 'born': 'In or between 201 AC and 209 AC', 'died': '', 'titles': ['Princess']}, {'name': 'Rhaegar Targaryen', 'gender': 'Male', 'culture': 'Valyrian', 'born': 'In 259 AC, at Summerhall', 'died': 'In 283 AC, at the Trident', 'titles': ['Prince of Dragonstone', 'Ser']}, {'name': 'Rhaegel Targaryen', 'gender': 'Male', 'culture': 'Valyrian', 'born': 'In or between 173 AC and 177 AC', 'died': 'In 215 AC', 'titles': ['Prince of Dragonstone']}, {'name': 'Rhaella Targaryen', 'gender': 'Female', 'culture': 'Valyrian', 'born': \"In 245 AC or 246 AC, at King's Landing\", 'died': 'In 284 AC, at Dragonstone', 'titles': ['Princess', 'Queen', 'Dowager Queen']}, {'name': 'Rhaelle Targaryen', 'gender': 'Female', 'culture': '', 'born': 'In or between 229 AC and 233 AC', 'died': '', 'titles': ['Princess']}, {'name': 'Rhaena Targaryen', 'gender': 'Female', 'culture': '', 'born': 'In 116 AC, at Pentos', 'died': '', 'titles': ['Lady']}, {'name': 'Rhaena Targaryen', 'gender': 'Female', 'culture': 'Valyrian', 'born': 'In 147 AC', 'died': '', 'titles': ['Princess', 'Septa']}, {'name': 'Rhaena Targaryen', 'gender': 'Female', 'culture': 'Valyrian', 'born': 'In 23 AC', 'died': '', 'titles': ['Princess', 'Queen']}, {'name': 'Rhaenyra Targaryen', 'gender': 'Female', 'culture': 'Valyrian', 'born': 'In 97 AC', 'died': 'In 130 AC, at Dragonstone', 'titles': ['Princess of Dragonstone', 'Lady of the Seven Kingdoms (claimant)']}, {'name': 'Rhaenys Targaryen', 'gender': 'Female', 'culture': 'Valyrian', 'born': 'In 74 AC', 'died': \"In 129 AC, at Rook's Rest\", 'titles': ['Princess']}, {'name': 'Rhaenys Targaryen', 'gender': 'Female', 'culture': '', 'born': 'In 280 AC, at Dragonstone', 'died': \"In 283 AC, at King's Landing\", 'titles': ['Princess']}, {'name': 'Saera Targaryen', 'gender': 'Female', 'culture': 'Valyrian', 'born': 'In or between 61 AC and 82 AC', 'died': '', 'titles': ['Princess']}, {'name': 'Shaera Targaryen', 'gender': 'Female', 'culture': 'Valyrian', 'born': 'In 226 AC', 'died': 'In or after 259AC', 'titles': ['Princess', 'Queen']}, {'name': 'Valarr Targaryen', 'gender': 'Male', 'culture': 'Valyrian', 'born': 'In or between 183 AC and 193 AC', 'died': \"In 209 AC, at King's Landing\", 'titles': ['Prince  Hand of the King (possibly)']}, {'name': 'Velaena Velaryon', 'gender': 'Female', 'culture': 'Valyrian', 'born': '', 'died': '', 'titles': ['Lady of Dragonstone']}, {'name': 'Viserys Targaryen', 'gender': 'Male', 'culture': 'Valyrian', 'born': \"In 276 AC, at King's Landing\", 'died': 'In 298 AC, at Vaes Dothrak', 'titles': ['King of the Andals, the Rhoynar and the First Men, Lord of the Seven Kingdoms and Protector of the Realm']}, {'name': 'Willem Darry', 'gender': 'Male', 'culture': '', 'born': '', 'died': 'In 289 AC or 290 AC (roughly), at Braavos', 'titles': ['Ser Master-at-arms at the Red Keep']}, {'name': 'Aggo', 'gender': 'Male', 'culture': 'Dothraki', 'born': '', 'died': '', 'titles': ['Ko, Bloodrider of Daenerys Targaryen']}, {'name': 'Belwas', 'gender': 'Male', 'culture': 'Meereenese', 'born': '', 'died': '', 'titles': ['']}, {'name': 'Brynden Rivers', 'gender': 'Male', 'culture': 'Valyrian', 'born': \"In 175 AC, at King's Landing\", 'died': 'In 252 AC(presumed), at beyond the Wall', 'titles': ['Ser', 'Hand of the King', \"Lord Commander of the Night's Watch\"]}, {'name': 'Daenaera Velaryon', 'gender': 'Female', 'culture': 'Valyrian', 'born': 'In 127 AC', 'died': '', 'titles': ['Queen']}, {'name': 'Daenerys Targaryen', 'gender': 'Female', 'culture': 'Valyrian', 'born': 'In 284 AC, at Dragonstone', 'died': '', 'titles': ['Queen of the Andals and the Rhoynar and the First Men, Lord of the Seven Kingdoms', 'Khaleesi of the Great Grass Sea', 'Breaker of Shackles/Chains', 'Queen of Meereen', 'Princess of Dragonstone']}, {'name': 'Doreah', 'gender': 'Female', 'culture': 'Lysene', 'born': 'In 278 or 279 AC', 'died': 'In 299 AC, at Red waste', 'titles': ['']}, {'name': 'Elaena Targaryen', 'gender': 'Female', 'culture': 'Valyrian', 'born': 'In 150 AC', 'died': 'In or after 220 AC', 'titles': ['Princess']}, {'name': 'Grey Worm', 'gender': 'Male', 'culture': '', 'born': '', 'died': '', 'titles': ['']}, {'name': 'Groleo', 'gender': 'Male', 'culture': 'Pentoshi', 'born': '', 'died': 'In 300 AC, at Meereen', 'titles': ['Captain', 'Lord Admiral']}, {'name': 'Haldon', 'gender': 'Male', 'culture': '', 'born': '', 'died': '', 'titles': ['']}, {'name': 'Illyrio Mopatis', 'gender': 'Male', 'culture': 'Pentoshi', 'born': 'At Pentos', 'died': '', 'titles': ['Magister of Pentos']}, {'name': 'Irri', 'gender': 'Female', 'culture': 'Dothraki', 'born': 'In 283 AC or 284 AC', 'died': '', 'titles': ['']}, {'name': 'Jaehaera Targaryen', 'gender': 'Female', 'culture': 'Valyrian', 'born': 'In 123 AC', 'died': \"In 133 AC, at King's Landing\", 'titles': ['Princess', 'Queen']}, {'name': 'Jaehaerys Targaryen', 'gender': 'Male', 'culture': '', 'born': 'In 123 AC', 'died': \"In 129 AC, at the Tower of the Hand at King's Landing\", 'titles': ['Prince']}, {'name': 'Jhiqui', 'gender': 'Female', 'culture': 'Dothraki', 'born': 'In 284 AC', 'died': '', 'titles': ['']}, {'name': 'Jhogo', 'gender': 'Male', 'culture': 'Dothraki', 'born': 'In or between 281 AC and 283 AC, at Dothraki sea', 'died': '', 'titles': ['Ko', 'Bloodrider']}, {'name': 'Jorah Mormont', 'gender': 'Male', 'culture': 'Northmen', 'born': 'In 254 AC (roughly)', 'died': '', 'titles': ['Ser', 'Lord of Bear Island (stripped)']}, {'name': 'Kiera of Tyrosh', 'gender': 'Female', 'culture': 'Tyroshi', 'born': '', 'died': '', 'titles': ['Lady']}, {'name': 'Larra Rogare', 'gender': 'Female', 'culture': 'Lysene', 'born': 'In 115 AC, at Lys', 'died': 'In 145 AC, at Lys', 'titles': ['']}, {'name': 'Missandei', 'gender': 'Female', 'culture': 'Naathi', 'born': 'In 288 AC or 289 AC, at Naath', 'died': '', 'titles': ['']}, {'name': 'Mushroom', 'gender': 'Male', 'culture': '', 'born': '', 'died': 'In or after 136AC', 'titles': ['']}, {'name': 'Pycelle', 'gender': 'Male', 'culture': '', 'born': 'In 216 AC', 'died': \"In 300 AC, at the Red Keep, King's Landing\", 'titles': ['Grand Maester']}, {'name': 'Rakharo', 'gender': 'Male', 'culture': 'Dothraki', 'born': '', 'died': '', 'titles': ['Ko', 'Bloodrider of Daenerys Targaryen']}, {'name': 'Red Lamb', 'gender': 'Male', 'culture': 'Lhazareen', 'born': '', 'died': '', 'titles': ['Ser']}, {'name': 'Reznak mo Reznak', 'gender': 'Male', 'culture': 'Ghiscari', 'born': 'At Meereen', 'died': '', 'titles': ['Seneschal']}, {'name': 'Rhaego', 'gender': 'Male', 'culture': '', 'born': 'In 298 AC, at Dothraki Sea', 'died': 'In 298 AC or 299 AC, at Lhazar', 'titles': ['']}, {'name': 'Rhaenys Targaryen', 'gender': 'Female', 'culture': 'Valyrian', 'born': 'In 25BC or 26BC, at Dragonstone', 'died': 'In 10 AC, at Hellholt', 'titles': ['Queen']}, {'name': 'Rolly Duckfield', 'gender': 'Male', 'culture': '', 'born': 'At Bitterbridge', 'died': '', 'titles': ['Ser']}, {'name': 'Shiera Seastar', 'gender': 'Female', 'culture': 'Westeros', 'born': 'In or between 178 AC and 184 AC', 'died': '', 'titles': ['']}, {'name': 'Skahaz mo Kandaq', 'gender': 'Male', 'culture': 'Ghiscari', 'born': 'At Meereen', 'died': '', 'titles': ['']}, {'name': 'Symon Stripeback', 'gender': 'Male', 'culture': '', 'born': '', 'died': '', 'titles': ['']}, {'name': 'Tal Toraq', 'gender': 'Male', 'culture': 'Summer Isles', 'born': '', 'died': '', 'titles': ['']}, {'name': 'Visenya Targaryen', 'gender': 'Female', 'culture': 'Valyrian', 'born': 'In 28BC or 29BC, at Dragonstone', 'died': 'In 44 AC', 'titles': ['Queen', 'Dowager Queen']}, {'name': 'Wate', 'gender': 'Male', 'culture': '', 'born': '', 'died': '', 'titles': ['']}, {'name': 'Yandry', 'gender': 'Male', 'culture': '', 'born': '', 'died': '', 'titles': ['']}, {'name': 'Yorkel', 'gender': 'Male', 'culture': '', 'born': '', 'died': '', 'titles': ['']}]\n"
          ]
        }
      ]
    },
    {
      "cell_type": "code",
      "source": [
        "headers = [\"name\", \"gender\", \"culture\", \"born\", \"died\", \"titles\"]\n",
        "\n",
        "with open(\"targaryens.csv\", \"w\", newline='') as file:\n",
        "    f = csv.writer(file)\n",
        "    f.writerow(headers)\n",
        "    for t in targaryen:\n",
        "        values = [t[h] for h in headers]\n",
        "        f.writerow(values)"
      ],
      "metadata": {
        "id": "2fbP--NYQ9nu"
      },
      "execution_count": 18,
      "outputs": []
    },
    {
      "cell_type": "code",
      "source": [
        "df = pd.read_csv('targaryens.csv')"
      ],
      "metadata": {
        "id": "W1qqYJT2RYAK"
      },
      "execution_count": 20,
      "outputs": []
    },
    {
      "cell_type": "code",
      "source": [
        "df.isna().sum()"
      ],
      "metadata": {
        "colab": {
          "base_uri": "https://localhost:8080/"
        },
        "id": "xkn0D7mBRh-w",
        "outputId": "6b66d8b2-3fbf-4771-cab9-99b096518ea6"
      },
      "execution_count": 28,
      "outputs": [
        {
          "output_type": "execute_result",
          "data": {
            "text/plain": [
              "name        0\n",
              "gender      0\n",
              "culture    36\n",
              "born       26\n",
              "died       49\n",
              "titles      0\n",
              "dtype: int64"
            ]
          },
          "metadata": {},
          "execution_count": 28
        }
      ]
    },
    {
      "cell_type": "code",
      "source": [
        "df[\"born\"].nunique()"
      ],
      "metadata": {
        "colab": {
          "base_uri": "https://localhost:8080/"
        },
        "id": "_a-lkKOVWXKe",
        "outputId": "0e53f50a-f895-4ce0-bdac-d5ac5555e4a4"
      },
      "execution_count": 30,
      "outputs": [
        {
          "output_type": "execute_result",
          "data": {
            "text/plain": [
              "71"
            ]
          },
          "metadata": {},
          "execution_count": 30
        }
      ]
    },
    {
      "cell_type": "code",
      "source": [
        "df[\"titles\"] = df['titles'].replace(\"['']\", nan)"
      ],
      "metadata": {
        "id": "Xx7vHUMwYrNw"
      },
      "execution_count": 37,
      "outputs": []
    },
    {
      "cell_type": "code",
      "source": [
        "df"
      ],
      "metadata": {
        "colab": {
          "base_uri": "https://localhost:8080/",
          "height": 424
        },
        "id": "xnWFG6O4ZR1w",
        "outputId": "bf336aee-ccde-4d74-c833-032b93552387"
      },
      "execution_count": 38,
      "outputs": [
        {
          "output_type": "execute_result",
          "data": {
            "text/plain": [
              "                  name  gender       culture  \\\n",
              "0       Addam Velaryon    Male      Valyrian   \n",
              "1      Aegon Targaryen    Male      Valyrian   \n",
              "2      Aegon Targaryen    Male      Valyrian   \n",
              "3      Aegon Targaryen    Male      Valyrian   \n",
              "4      Aegon Targaryen    Male      Valyrian   \n",
              "..                 ...     ...           ...   \n",
              "96           Tal Toraq    Male  Summer Isles   \n",
              "97   Visenya Targaryen  Female      Valyrian   \n",
              "98                Wate    Male           NaN   \n",
              "99              Yandry    Male           NaN   \n",
              "100             Yorkel    Male           NaN   \n",
              "\n",
              "                                    born  \\\n",
              "0                     In 114 AC, at Hull   \n",
              "1    In 281 AC or 282 AC, at Dragonstone   \n",
              "2                               In 26 AC   \n",
              "3                                    NaN   \n",
              "4          In or between 50 AC and 59 AC   \n",
              "..                                   ...   \n",
              "96                                   NaN   \n",
              "97       In 28BC or 29BC, at Dragonstone   \n",
              "98                                   NaN   \n",
              "99                                   NaN   \n",
              "100                                  NaN   \n",
              "\n",
              "                                          died                      titles  \n",
              "0                      In 130 AC, at Tumbleton                     ['Ser']  \n",
              "1    In 283 AC (Supposedly), at King's Landing                         NaN  \n",
              "2                        In 43 AC, at Gods Eye                  ['Prince']  \n",
              "3                                          NaN                  ['Prince']  \n",
              "4                                          NaN                  ['Prince']  \n",
              "..                                         ...                         ...  \n",
              "96                                         NaN                         NaN  \n",
              "97                                    In 44 AC  ['Queen', 'Dowager Queen']  \n",
              "98                                         NaN                         NaN  \n",
              "99                                         NaN                         NaN  \n",
              "100                                        NaN                         NaN  \n",
              "\n",
              "[101 rows x 6 columns]"
            ],
            "text/html": [
              "\n",
              "  <div id=\"df-1ce938fb-52ea-4c2d-bffe-1a4d9f2a25a6\">\n",
              "    <div class=\"colab-df-container\">\n",
              "      <div>\n",
              "<style scoped>\n",
              "    .dataframe tbody tr th:only-of-type {\n",
              "        vertical-align: middle;\n",
              "    }\n",
              "\n",
              "    .dataframe tbody tr th {\n",
              "        vertical-align: top;\n",
              "    }\n",
              "\n",
              "    .dataframe thead th {\n",
              "        text-align: right;\n",
              "    }\n",
              "</style>\n",
              "<table border=\"1\" class=\"dataframe\">\n",
              "  <thead>\n",
              "    <tr style=\"text-align: right;\">\n",
              "      <th></th>\n",
              "      <th>name</th>\n",
              "      <th>gender</th>\n",
              "      <th>culture</th>\n",
              "      <th>born</th>\n",
              "      <th>died</th>\n",
              "      <th>titles</th>\n",
              "    </tr>\n",
              "  </thead>\n",
              "  <tbody>\n",
              "    <tr>\n",
              "      <th>0</th>\n",
              "      <td>Addam Velaryon</td>\n",
              "      <td>Male</td>\n",
              "      <td>Valyrian</td>\n",
              "      <td>In 114 AC, at Hull</td>\n",
              "      <td>In 130 AC, at Tumbleton</td>\n",
              "      <td>['Ser']</td>\n",
              "    </tr>\n",
              "    <tr>\n",
              "      <th>1</th>\n",
              "      <td>Aegon Targaryen</td>\n",
              "      <td>Male</td>\n",
              "      <td>Valyrian</td>\n",
              "      <td>In 281 AC or 282 AC, at Dragonstone</td>\n",
              "      <td>In 283 AC (Supposedly), at King's Landing</td>\n",
              "      <td>NaN</td>\n",
              "    </tr>\n",
              "    <tr>\n",
              "      <th>2</th>\n",
              "      <td>Aegon Targaryen</td>\n",
              "      <td>Male</td>\n",
              "      <td>Valyrian</td>\n",
              "      <td>In 26 AC</td>\n",
              "      <td>In 43 AC, at Gods Eye</td>\n",
              "      <td>['Prince']</td>\n",
              "    </tr>\n",
              "    <tr>\n",
              "      <th>3</th>\n",
              "      <td>Aegon Targaryen</td>\n",
              "      <td>Male</td>\n",
              "      <td>Valyrian</td>\n",
              "      <td>NaN</td>\n",
              "      <td>NaN</td>\n",
              "      <td>['Prince']</td>\n",
              "    </tr>\n",
              "    <tr>\n",
              "      <th>4</th>\n",
              "      <td>Aegon Targaryen</td>\n",
              "      <td>Male</td>\n",
              "      <td>Valyrian</td>\n",
              "      <td>In or between 50 AC and 59 AC</td>\n",
              "      <td>NaN</td>\n",
              "      <td>['Prince']</td>\n",
              "    </tr>\n",
              "    <tr>\n",
              "      <th>...</th>\n",
              "      <td>...</td>\n",
              "      <td>...</td>\n",
              "      <td>...</td>\n",
              "      <td>...</td>\n",
              "      <td>...</td>\n",
              "      <td>...</td>\n",
              "    </tr>\n",
              "    <tr>\n",
              "      <th>96</th>\n",
              "      <td>Tal Toraq</td>\n",
              "      <td>Male</td>\n",
              "      <td>Summer Isles</td>\n",
              "      <td>NaN</td>\n",
              "      <td>NaN</td>\n",
              "      <td>NaN</td>\n",
              "    </tr>\n",
              "    <tr>\n",
              "      <th>97</th>\n",
              "      <td>Visenya Targaryen</td>\n",
              "      <td>Female</td>\n",
              "      <td>Valyrian</td>\n",
              "      <td>In 28BC or 29BC, at Dragonstone</td>\n",
              "      <td>In 44 AC</td>\n",
              "      <td>['Queen', 'Dowager Queen']</td>\n",
              "    </tr>\n",
              "    <tr>\n",
              "      <th>98</th>\n",
              "      <td>Wate</td>\n",
              "      <td>Male</td>\n",
              "      <td>NaN</td>\n",
              "      <td>NaN</td>\n",
              "      <td>NaN</td>\n",
              "      <td>NaN</td>\n",
              "    </tr>\n",
              "    <tr>\n",
              "      <th>99</th>\n",
              "      <td>Yandry</td>\n",
              "      <td>Male</td>\n",
              "      <td>NaN</td>\n",
              "      <td>NaN</td>\n",
              "      <td>NaN</td>\n",
              "      <td>NaN</td>\n",
              "    </tr>\n",
              "    <tr>\n",
              "      <th>100</th>\n",
              "      <td>Yorkel</td>\n",
              "      <td>Male</td>\n",
              "      <td>NaN</td>\n",
              "      <td>NaN</td>\n",
              "      <td>NaN</td>\n",
              "      <td>NaN</td>\n",
              "    </tr>\n",
              "  </tbody>\n",
              "</table>\n",
              "<p>101 rows × 6 columns</p>\n",
              "</div>\n",
              "      <button class=\"colab-df-convert\" onclick=\"convertToInteractive('df-1ce938fb-52ea-4c2d-bffe-1a4d9f2a25a6')\"\n",
              "              title=\"Convert this dataframe to an interactive table.\"\n",
              "              style=\"display:none;\">\n",
              "        \n",
              "  <svg xmlns=\"http://www.w3.org/2000/svg\" height=\"24px\"viewBox=\"0 0 24 24\"\n",
              "       width=\"24px\">\n",
              "    <path d=\"M0 0h24v24H0V0z\" fill=\"none\"/>\n",
              "    <path d=\"M18.56 5.44l.94 2.06.94-2.06 2.06-.94-2.06-.94-.94-2.06-.94 2.06-2.06.94zm-11 1L8.5 8.5l.94-2.06 2.06-.94-2.06-.94L8.5 2.5l-.94 2.06-2.06.94zm10 10l.94 2.06.94-2.06 2.06-.94-2.06-.94-.94-2.06-.94 2.06-2.06.94z\"/><path d=\"M17.41 7.96l-1.37-1.37c-.4-.4-.92-.59-1.43-.59-.52 0-1.04.2-1.43.59L10.3 9.45l-7.72 7.72c-.78.78-.78 2.05 0 2.83L4 21.41c.39.39.9.59 1.41.59.51 0 1.02-.2 1.41-.59l7.78-7.78 2.81-2.81c.8-.78.8-2.07 0-2.86zM5.41 20L4 18.59l7.72-7.72 1.47 1.35L5.41 20z\"/>\n",
              "  </svg>\n",
              "      </button>\n",
              "      \n",
              "  <style>\n",
              "    .colab-df-container {\n",
              "      display:flex;\n",
              "      flex-wrap:wrap;\n",
              "      gap: 12px;\n",
              "    }\n",
              "\n",
              "    .colab-df-convert {\n",
              "      background-color: #E8F0FE;\n",
              "      border: none;\n",
              "      border-radius: 50%;\n",
              "      cursor: pointer;\n",
              "      display: none;\n",
              "      fill: #1967D2;\n",
              "      height: 32px;\n",
              "      padding: 0 0 0 0;\n",
              "      width: 32px;\n",
              "    }\n",
              "\n",
              "    .colab-df-convert:hover {\n",
              "      background-color: #E2EBFA;\n",
              "      box-shadow: 0px 1px 2px rgba(60, 64, 67, 0.3), 0px 1px 3px 1px rgba(60, 64, 67, 0.15);\n",
              "      fill: #174EA6;\n",
              "    }\n",
              "\n",
              "    [theme=dark] .colab-df-convert {\n",
              "      background-color: #3B4455;\n",
              "      fill: #D2E3FC;\n",
              "    }\n",
              "\n",
              "    [theme=dark] .colab-df-convert:hover {\n",
              "      background-color: #434B5C;\n",
              "      box-shadow: 0px 1px 3px 1px rgba(0, 0, 0, 0.15);\n",
              "      filter: drop-shadow(0px 1px 2px rgba(0, 0, 0, 0.3));\n",
              "      fill: #FFFFFF;\n",
              "    }\n",
              "  </style>\n",
              "\n",
              "      <script>\n",
              "        const buttonEl =\n",
              "          document.querySelector('#df-1ce938fb-52ea-4c2d-bffe-1a4d9f2a25a6 button.colab-df-convert');\n",
              "        buttonEl.style.display =\n",
              "          google.colab.kernel.accessAllowed ? 'block' : 'none';\n",
              "\n",
              "        async function convertToInteractive(key) {\n",
              "          const element = document.querySelector('#df-1ce938fb-52ea-4c2d-bffe-1a4d9f2a25a6');\n",
              "          const dataTable =\n",
              "            await google.colab.kernel.invokeFunction('convertToInteractive',\n",
              "                                                     [key], {});\n",
              "          if (!dataTable) return;\n",
              "\n",
              "          const docLinkHtml = 'Like what you see? Visit the ' +\n",
              "            '<a target=\"_blank\" href=https://colab.research.google.com/notebooks/data_table.ipynb>data table notebook</a>'\n",
              "            + ' to learn more about interactive tables.';\n",
              "          element.innerHTML = '';\n",
              "          dataTable['output_type'] = 'display_data';\n",
              "          await google.colab.output.renderOutput(dataTable, element);\n",
              "          const docLink = document.createElement('div');\n",
              "          docLink.innerHTML = docLinkHtml;\n",
              "          element.appendChild(docLink);\n",
              "        }\n",
              "      </script>\n",
              "    </div>\n",
              "  </div>\n",
              "  "
            ]
          },
          "metadata": {},
          "execution_count": 38
        }
      ]
    },
    {
      "cell_type": "code",
      "source": [
        "df[[\"gender\",\"titles\"]]"
      ],
      "metadata": {
        "colab": {
          "base_uri": "https://localhost:8080/",
          "height": 424
        },
        "id": "W9vcC58raJPX",
        "outputId": "fe7248a5-0cb4-4c3f-c8aa-ca1a2e290a97"
      },
      "execution_count": 43,
      "outputs": [
        {
          "output_type": "execute_result",
          "data": {
            "text/plain": [
              "     gender                      titles\n",
              "0      Male                     ['Ser']\n",
              "1      Male                         NaN\n",
              "2      Male                  ['Prince']\n",
              "3      Male                  ['Prince']\n",
              "4      Male                  ['Prince']\n",
              "..      ...                         ...\n",
              "96     Male                         NaN\n",
              "97   Female  ['Queen', 'Dowager Queen']\n",
              "98     Male                         NaN\n",
              "99     Male                         NaN\n",
              "100    Male                         NaN\n",
              "\n",
              "[101 rows x 2 columns]"
            ],
            "text/html": [
              "\n",
              "  <div id=\"df-344ad160-0967-4e07-ba7d-51f32de27c6f\">\n",
              "    <div class=\"colab-df-container\">\n",
              "      <div>\n",
              "<style scoped>\n",
              "    .dataframe tbody tr th:only-of-type {\n",
              "        vertical-align: middle;\n",
              "    }\n",
              "\n",
              "    .dataframe tbody tr th {\n",
              "        vertical-align: top;\n",
              "    }\n",
              "\n",
              "    .dataframe thead th {\n",
              "        text-align: right;\n",
              "    }\n",
              "</style>\n",
              "<table border=\"1\" class=\"dataframe\">\n",
              "  <thead>\n",
              "    <tr style=\"text-align: right;\">\n",
              "      <th></th>\n",
              "      <th>gender</th>\n",
              "      <th>titles</th>\n",
              "    </tr>\n",
              "  </thead>\n",
              "  <tbody>\n",
              "    <tr>\n",
              "      <th>0</th>\n",
              "      <td>Male</td>\n",
              "      <td>['Ser']</td>\n",
              "    </tr>\n",
              "    <tr>\n",
              "      <th>1</th>\n",
              "      <td>Male</td>\n",
              "      <td>NaN</td>\n",
              "    </tr>\n",
              "    <tr>\n",
              "      <th>2</th>\n",
              "      <td>Male</td>\n",
              "      <td>['Prince']</td>\n",
              "    </tr>\n",
              "    <tr>\n",
              "      <th>3</th>\n",
              "      <td>Male</td>\n",
              "      <td>['Prince']</td>\n",
              "    </tr>\n",
              "    <tr>\n",
              "      <th>4</th>\n",
              "      <td>Male</td>\n",
              "      <td>['Prince']</td>\n",
              "    </tr>\n",
              "    <tr>\n",
              "      <th>...</th>\n",
              "      <td>...</td>\n",
              "      <td>...</td>\n",
              "    </tr>\n",
              "    <tr>\n",
              "      <th>96</th>\n",
              "      <td>Male</td>\n",
              "      <td>NaN</td>\n",
              "    </tr>\n",
              "    <tr>\n",
              "      <th>97</th>\n",
              "      <td>Female</td>\n",
              "      <td>['Queen', 'Dowager Queen']</td>\n",
              "    </tr>\n",
              "    <tr>\n",
              "      <th>98</th>\n",
              "      <td>Male</td>\n",
              "      <td>NaN</td>\n",
              "    </tr>\n",
              "    <tr>\n",
              "      <th>99</th>\n",
              "      <td>Male</td>\n",
              "      <td>NaN</td>\n",
              "    </tr>\n",
              "    <tr>\n",
              "      <th>100</th>\n",
              "      <td>Male</td>\n",
              "      <td>NaN</td>\n",
              "    </tr>\n",
              "  </tbody>\n",
              "</table>\n",
              "<p>101 rows × 2 columns</p>\n",
              "</div>\n",
              "      <button class=\"colab-df-convert\" onclick=\"convertToInteractive('df-344ad160-0967-4e07-ba7d-51f32de27c6f')\"\n",
              "              title=\"Convert this dataframe to an interactive table.\"\n",
              "              style=\"display:none;\">\n",
              "        \n",
              "  <svg xmlns=\"http://www.w3.org/2000/svg\" height=\"24px\"viewBox=\"0 0 24 24\"\n",
              "       width=\"24px\">\n",
              "    <path d=\"M0 0h24v24H0V0z\" fill=\"none\"/>\n",
              "    <path d=\"M18.56 5.44l.94 2.06.94-2.06 2.06-.94-2.06-.94-.94-2.06-.94 2.06-2.06.94zm-11 1L8.5 8.5l.94-2.06 2.06-.94-2.06-.94L8.5 2.5l-.94 2.06-2.06.94zm10 10l.94 2.06.94-2.06 2.06-.94-2.06-.94-.94-2.06-.94 2.06-2.06.94z\"/><path d=\"M17.41 7.96l-1.37-1.37c-.4-.4-.92-.59-1.43-.59-.52 0-1.04.2-1.43.59L10.3 9.45l-7.72 7.72c-.78.78-.78 2.05 0 2.83L4 21.41c.39.39.9.59 1.41.59.51 0 1.02-.2 1.41-.59l7.78-7.78 2.81-2.81c.8-.78.8-2.07 0-2.86zM5.41 20L4 18.59l7.72-7.72 1.47 1.35L5.41 20z\"/>\n",
              "  </svg>\n",
              "      </button>\n",
              "      \n",
              "  <style>\n",
              "    .colab-df-container {\n",
              "      display:flex;\n",
              "      flex-wrap:wrap;\n",
              "      gap: 12px;\n",
              "    }\n",
              "\n",
              "    .colab-df-convert {\n",
              "      background-color: #E8F0FE;\n",
              "      border: none;\n",
              "      border-radius: 50%;\n",
              "      cursor: pointer;\n",
              "      display: none;\n",
              "      fill: #1967D2;\n",
              "      height: 32px;\n",
              "      padding: 0 0 0 0;\n",
              "      width: 32px;\n",
              "    }\n",
              "\n",
              "    .colab-df-convert:hover {\n",
              "      background-color: #E2EBFA;\n",
              "      box-shadow: 0px 1px 2px rgba(60, 64, 67, 0.3), 0px 1px 3px 1px rgba(60, 64, 67, 0.15);\n",
              "      fill: #174EA6;\n",
              "    }\n",
              "\n",
              "    [theme=dark] .colab-df-convert {\n",
              "      background-color: #3B4455;\n",
              "      fill: #D2E3FC;\n",
              "    }\n",
              "\n",
              "    [theme=dark] .colab-df-convert:hover {\n",
              "      background-color: #434B5C;\n",
              "      box-shadow: 0px 1px 3px 1px rgba(0, 0, 0, 0.15);\n",
              "      filter: drop-shadow(0px 1px 2px rgba(0, 0, 0, 0.3));\n",
              "      fill: #FFFFFF;\n",
              "    }\n",
              "  </style>\n",
              "\n",
              "      <script>\n",
              "        const buttonEl =\n",
              "          document.querySelector('#df-344ad160-0967-4e07-ba7d-51f32de27c6f button.colab-df-convert');\n",
              "        buttonEl.style.display =\n",
              "          google.colab.kernel.accessAllowed ? 'block' : 'none';\n",
              "\n",
              "        async function convertToInteractive(key) {\n",
              "          const element = document.querySelector('#df-344ad160-0967-4e07-ba7d-51f32de27c6f');\n",
              "          const dataTable =\n",
              "            await google.colab.kernel.invokeFunction('convertToInteractive',\n",
              "                                                     [key], {});\n",
              "          if (!dataTable) return;\n",
              "\n",
              "          const docLinkHtml = 'Like what you see? Visit the ' +\n",
              "            '<a target=\"_blank\" href=https://colab.research.google.com/notebooks/data_table.ipynb>data table notebook</a>'\n",
              "            + ' to learn more about interactive tables.';\n",
              "          element.innerHTML = '';\n",
              "          dataTable['output_type'] = 'display_data';\n",
              "          await google.colab.output.renderOutput(dataTable, element);\n",
              "          const docLink = document.createElement('div');\n",
              "          docLink.innerHTML = docLinkHtml;\n",
              "          element.appendChild(docLink);\n",
              "        }\n",
              "      </script>\n",
              "    </div>\n",
              "  </div>\n",
              "  "
            ]
          },
          "metadata": {},
          "execution_count": 43
        }
      ]
    }
  ]
}